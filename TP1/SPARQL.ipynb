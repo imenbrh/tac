{
 "cells": [
  {
   "cell_type": "markdown",
   "id": "80ee9804-4e8a-409e-a663-d30f4be8d61a",
   "metadata": {},
   "source": [
    "# Bases de connaissance : interroger Wikidata à l'aide de requêtes SPARQL"
   ]
  },
  {
   "cell_type": "markdown",
   "id": "5b8ae640-7741-4bf2-90dc-a44a76110154",
   "metadata": {},
   "source": [
    "## Imports"
   ]
  },
  {
   "cell_type": "code",
   "execution_count": 1,
   "id": "3f75c1bb-39ba-4cf3-904e-9e60388d7108",
   "metadata": {},
   "outputs": [],
   "source": [
    "import sys\n",
    "from datetime import datetime as dt\n",
    "from SPARQLWrapper import SPARQLWrapper, JSON"
   ]
  },
  {
   "cell_type": "markdown",
   "id": "115f157c-2a5f-4223-973b-13fe19d0ba8e",
   "metadata": {},
   "source": [
    "## Obtenir la liste des prix Nobel en Belgique"
   ]
  },
  {
   "cell_type": "code",
   "execution_count": 2,
   "id": "76f94721-aa7b-4f91-865c-0fc08a9d4982",
   "metadata": {},
   "outputs": [
    {
     "name": "stdout",
     "output_type": "stream",
     "text": [
      "{'year': {'type': 'literal', 'value': '1974'}, 'TotalYearlyPrizeNumberInBelgium': {'datatype': 'http://www.w3.org/2001/XMLSchema#integer', 'type': 'literal', 'value': '2'}}\n",
      "{'year': {'type': 'literal', 'value': '1938'}, 'TotalYearlyPrizeNumberInBelgium': {'datatype': 'http://www.w3.org/2001/XMLSchema#integer', 'type': 'literal', 'value': '1'}}\n",
      "{'year': {'type': 'literal', 'value': '1919'}, 'TotalYearlyPrizeNumberInBelgium': {'datatype': 'http://www.w3.org/2001/XMLSchema#integer', 'type': 'literal', 'value': '1'}}\n",
      "{'year': {'type': 'literal', 'value': '1977'}, 'TotalYearlyPrizeNumberInBelgium': {'datatype': 'http://www.w3.org/2001/XMLSchema#integer', 'type': 'literal', 'value': '1'}}\n",
      "{'year': {'type': 'literal', 'value': '1913'}, 'TotalYearlyPrizeNumberInBelgium': {'datatype': 'http://www.w3.org/2001/XMLSchema#integer', 'type': 'literal', 'value': '1'}}\n",
      "{'year': {'type': 'literal', 'value': '1909'}, 'TotalYearlyPrizeNumberInBelgium': {'datatype': 'http://www.w3.org/2001/XMLSchema#integer', 'type': 'literal', 'value': '1'}}\n",
      "{'year': {'type': 'literal', 'value': '2013'}, 'TotalYearlyPrizeNumberInBelgium': {'datatype': 'http://www.w3.org/2001/XMLSchema#integer', 'type': 'literal', 'value': '1'}}\n",
      "{'year': {'type': 'literal', 'value': '1958'}, 'TotalYearlyPrizeNumberInBelgium': {'datatype': 'http://www.w3.org/2001/XMLSchema#integer', 'type': 'literal', 'value': '1'}}\n",
      "{'year': {'type': 'literal', 'value': '1911'}, 'TotalYearlyPrizeNumberInBelgium': {'datatype': 'http://www.w3.org/2001/XMLSchema#integer', 'type': 'literal', 'value': '1'}}\n"
     ]
    }
   ],
   "source": [
    "# Retrieve results from SPARQL\n",
    "endpoint = \"https://query.wikidata.org/bigdata/namespace/wdq/sparql\"\n",
    "sparql = SPARQLWrapper(endpoint)\n",
    "query = \"\"\"#defaultView:LineChart\n",
    "SELECT  ?year (COUNT(?human) AS ?TotalYearlyPrizeNumberInBelgium) ?countryLabel  \n",
    "#SELECT  ?year ?human ?countryLabel  \n",
    "WITH\n",
    "{\n",
    "  SELECT * WHERE {\n",
    "    ?human (p:P166) ?awardStatement.\n",
    "    ?awardStatement ps:P166/wdt:P279* wd:Q7191.\n",
    "          ?awardStatement pq:P585 ?date.\n",
    "    ?human  wdt:P27 wd:Q31.\n",
    "          bind(str(YEAR(?date)) AS ?year)\n",
    "                    #SERVICE wikibase:label { bd:serviceParam wikibase:language \"zh,[AUTO_LANGUAGE],\". }\n",
    "    }\n",
    "  LIMIT 10000\n",
    "} AS %results\n",
    "WHERE\n",
    "{\n",
    "    INCLUDE %results.\n",
    "    SERVICE wikibase:label { bd:serviceParam wikibase:language \"[AUTO_LANGUAGE],en\". }\n",
    "}\n",
    "GROUP BY ?year ?countryLabel\"\"\"\n",
    "\n",
    "\n",
    "def get_results(endpoint, query):\n",
    "    user_agent = \"WDQS-example Python/%s.%s\" % (sys.version_info[0], sys.version_info[1])\n",
    "    # TODO adjust user agent; see https://w.wiki/CX6\n",
    "    sparql = SPARQLWrapper(endpoint, agent=user_agent)\n",
    "    sparql.setQuery(query)\n",
    "    sparql.setReturnFormat(JSON)\n",
    "    return sparql.query().convert()\n",
    "    \n",
    "results = get_results(endpoint, query)\n",
    "\n",
    "for result in results[\"results\"][\"bindings\"]:\n",
    "    print(result)"
   ]
  }
 ],
 "metadata": {
  "kernelspec": {
   "display_name": "Python 3 (ipykernel)",
   "language": "python",
   "name": "python3"
  },
  "language_info": {
   "codemirror_mode": {
    "name": "ipython",
    "version": 3
   },
   "file_extension": ".py",
   "mimetype": "text/x-python",
   "name": "python",
   "nbconvert_exporter": "python",
   "pygments_lexer": "ipython3",
   "version": "3.11.6"
  }
 },
 "nbformat": 4,
 "nbformat_minor": 5
}
