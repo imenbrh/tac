{
 "cells": [
  {
   "cell_type": "markdown",
   "metadata": {},
   "source": [
    "# <span style=\"color:red; font-style:italic\">CEE et Réformes Fiscales en Belgique :</span> <span style=\"color:red;  font-style:italic\">Les Liens Inévitables</span>"
   ]
  },
  {
   "cell_type": "markdown",
   "metadata": {},
   "source": [
    "## <span style=\"color:blue\">Bases de connaissance : interroger Wikidata à l'aide de requêtes SPARQL </span> "
   ]
  }
 ],
 "metadata": {
  "language_info": {
   "name": "python"
  }
 },
 "nbformat": 4,
 "nbformat_minor": 2
}
