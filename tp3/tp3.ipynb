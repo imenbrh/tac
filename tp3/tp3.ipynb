{
 "cells": [
  {
   "cell_type": "markdown",
   "id": "9e7eb962-3a37-42a1-908b-aa30242d3d0f",
   "metadata": {},
   "source": [
    "# TP3"
   ]
  },
  {
   "cell_type": "markdown",
   "id": "7394081e-3f9f-4c95-adf9-2fd04a842616",
   "metadata": {},
   "source": [
    "# Clustering de documents"
   ]
  },
  {
   "cell_type": "markdown",
   "id": "79d1ddf9-108d-44e0-a7e8-bf3be5ab0077",
   "metadata": {},
   "source": [
    "### Imports"
   ]
  },
  {
   "cell_type": "code",
   "execution_count": 1,
   "id": "0d9e52ff-bdff-4a27-981e-35818ac97e73",
   "metadata": {},
   "outputs": [],
   "source": [
    "import collections\n",
    "import os\n",
    "import string\n",
    "import sys\n",
    "\n",
    "import pandas as pd\n",
    "from nltk import word_tokenize\n",
    "from nltk.corpus import stopwords\n",
    "from pprint import pprint\n",
    "from sklearn.cluster import KMeans\n",
    "from sklearn.feature_extraction.text import TfidfVectorizer\n",
    "from sklearn.decomposition import PCA\n",
    "import numpy as np\n",
    "import matplotlib.pyplot as plt\n",
    "from scipy.spatial.distance import cosine"
   ]
  },
  {
   "cell_type": "code",
   "execution_count": 2,
   "id": "1b737d42-f79f-478a-aff1-a85155cda30f",
   "metadata": {},
   "outputs": [
    {
     "name": "stderr",
     "output_type": "stream",
     "text": [
      "[nltk_data] Downloading package punkt to /root/nltk_data...\n",
      "[nltk_data]   Package punkt is already up-to-date!\n"
     ]
    },
    {
     "data": {
      "text/plain": [
       "True"
      ]
     },
     "execution_count": 2,
     "metadata": {},
     "output_type": "execute_result"
    }
   ],
   "source": [
    "import nltk\n",
    "\n",
    "nltk.download('punkt')"
   ]
  },
  {
   "cell_type": "code",
   "execution_count": 3,
   "id": "7fa27b13-6e83-4af6-9b6c-7a8ac8009032",
   "metadata": {},
   "outputs": [],
   "source": [
    "data_path = \"../data/txt/\""
   ]
  },
  {
   "cell_type": "code",
   "execution_count": 4,
   "id": "258d10ae-ec5e-40e7-9960-fe772676963a",
   "metadata": {},
   "outputs": [],
   "source": [
    "# La décennie \n",
    "DECADE = '1940'"
   ]
  },
  {
   "cell_type": "markdown",
   "id": "11522255-72bd-40d5-a369-9d7bd1c9e19b",
   "metadata": {},
   "source": [
    "### Charger tous les fichiers de la décennie et en créer une liste de textes"
   ]
  },
  {
   "cell_type": "code",
   "execution_count": 5,
   "id": "cd05b9ba-5795-44eb-baad-7c6226683926",
   "metadata": {},
   "outputs": [],
   "source": [
    "# Choisir une décennie \n",
    "DECADE = '1940'"
   ]
  },
  {
   "cell_type": "code",
   "execution_count": 6,
   "id": "6c217f3d-7b89-484c-9e70-6d7c8742db4b",
   "metadata": {},
   "outputs": [],
   "source": [
    "files = [f for f in sorted(os.listdir(data_path)) if f\"_{DECADE[:-1]}\" in f]"
   ]
  },
  {
   "cell_type": "code",
   "execution_count": 7,
   "id": "c486995f-a7bf-4fc4-9068-d26da6354afa",
   "metadata": {},
   "outputs": [
    {
     "data": {
      "text/plain": [
       "['Bxl_1945_Tome_II1_Part_1.txt',\n",
       " 'Bxl_1945_Tome_II1_Part_2.txt',\n",
       " 'Bxl_1945_Tome_II1_Part_3.txt',\n",
       " 'Bxl_1945_Tome_II1_Part_4.txt',\n",
       " 'Bxl_1945_Tome_II1_Part_5.txt']"
      ]
     },
     "execution_count": 7,
     "metadata": {},
     "output_type": "execute_result"
    }
   ],
   "source": [
    "# Exemple de fichiers\n",
    "files[:5]"
   ]
  },
  {
   "cell_type": "code",
   "execution_count": 8,
   "id": "34d2e120-ddd3-476f-af15-ecd4bbd3841c",
   "metadata": {},
   "outputs": [],
   "source": [
    "texts = [open(data_path + f).read() for f in files]"
   ]
  },
  {
   "cell_type": "code",
   "execution_count": 9,
   "id": "b74f45e7-ffcc-4da8-b1da-e85a3dd4bd7a",
   "metadata": {},
   "outputs": [
    {
     "data": {
      "text/plain": [
       "\"Juillet\\n\\n1945.\\n\\nPUBLICATION\\n\\nVSLIE\\n\\nDE\\n\\nJG\\n\\nPERIODIQUE\\n\\nBRUXELLES\\n\\nBRUXELLES\\nIMPRIMERIE CLARENCE DENIS\\n289, Chaussée de Mons\\n1945\\n\\n\\x0cCentenaiti\\n\\nloi\\n\\n\\x0cCentenaire de Camille Lemonnier\\n24 J U I N\\n\\n1945.\\n\\nUne manifestation, organisée à l'initiative de la revue littéraire « Le Renaissance d'Occident », a eu lieu au monument\\nqui perpétue le souvenir de Camille Lemonnier, au RondPoint de l'avenue Louise,\""
      ]
     },
     "execution_count": 9,
     "metadata": {},
     "output_type": "execute_result"
    }
   ],
   "source": [
    "# Exemple de textes\n",
    "texts[0][:400]"
   ]
  },
  {
   "cell_type": "markdown",
   "id": "a559d22f-5b62-4ba1-b0a9-0ce8e9bec973",
   "metadata": {},
   "source": [
    "## Vectoriser les documents à l'aide de TF-IDF"
   ]
  },
  {
   "cell_type": "code",
   "execution_count": 10,
   "id": "8eb2068b-59c6-4480-a90f-6952b5c43ec0",
   "metadata": {},
   "outputs": [],
   "source": [
    "# Création d'une fonction de pré-traitement\n",
    "def preprocessing(text, stem=True):\n",
    "    \"\"\" Tokenize text and remove punctuation \"\"\"\n",
    "    text = text.translate(string.punctuation)\n",
    "    tokens = word_tokenize(text)\n",
    "    return tokens"
   ]
  },
  {
   "cell_type": "markdown",
   "id": "3c88365d-c0ab-4b15-86bd-585459922bdd",
   "metadata": {},
   "source": [
    "### Instancier le modèle TF-IDF avec ses arguments"
   ]
  },
  {
   "cell_type": "code",
   "execution_count": 11,
   "id": "b3819cde-a9d5-4aab-a0f2-da8da6e36c7d",
   "metadata": {},
   "outputs": [],
   "source": [
    "vectorizer = TfidfVectorizer(\n",
    "    tokenizer=preprocessing,\n",
    "    stop_words=stopwords.words('french'),\n",
    "    max_df=0.5,\n",
    "    min_df=0.1,\n",
    "    lowercase=True)"
   ]
  },
  {
   "cell_type": "markdown",
   "id": "825c36ee-28ed-4341-87f7-a6bb3d50fb84",
   "metadata": {},
   "source": [
    "### Construire la matrice de vecteurs à l'aide de la fonction fit_transform"
   ]
  },
  {
   "cell_type": "code",
   "execution_count": 12,
   "id": "c6ab91a8-d945-4684-aea8-f18346c7fa41",
   "metadata": {},
   "outputs": [
    {
     "name": "stdout",
     "output_type": "stream",
     "text": [
      "CPU times: user 32.8 s, sys: 0 ns, total: 32.8 s\n",
      "Wall time: 32.8 s\n"
     ]
    }
   ],
   "source": [
    "%time tfidf_vectors = vectorizer.fit_transform(texts)"
   ]
  },
  {
   "cell_type": "code",
   "execution_count": 13,
   "id": "f0951de3-54eb-414a-96cd-a62f31a113ed",
   "metadata": {},
   "outputs": [
    {
     "data": {
      "text/plain": [
       "<102x6339 sparse matrix of type '<class 'numpy.float64'>'\n",
       "\twith 139777 stored elements in Compressed Sparse Row format>"
      ]
     },
     "execution_count": 13,
     "metadata": {},
     "output_type": "execute_result"
    }
   ],
   "source": [
    "# Détail de la matrice\n",
    "tfidf_vectors"
   ]
  },
  {
   "cell_type": "markdown",
   "id": "ee13d551-60c1-44c0-be3c-4ad748495154",
   "metadata": {},
   "source": [
    "### Imprimer le vecteur tf-IDF du premier document"
   ]
  },
  {
   "cell_type": "code",
   "execution_count": 14,
   "id": "bf11aa21-2259-43a1-ac99-6c27d9884d11",
   "metadata": {},
   "outputs": [
    {
     "data": {
      "text/plain": [
       "foucart           0.317325\n",
       "rachat            0.174113\n",
       "tramways          0.141666\n",
       "répartition       0.118969\n",
       "cadastral         0.116075\n",
       "                    ...   \n",
       "dégagement        0.000000\n",
       "définitivement    0.000000\n",
       "déficitaire       0.000000\n",
       "défendre          0.000000\n",
       "™                 0.000000\n",
       "Length: 6339, dtype: float64"
      ]
     },
     "execution_count": 14,
     "metadata": {},
     "output_type": "execute_result"
    }
   ],
   "source": [
    "pd.Series(\n",
    "    tfidf_vectors[0].toarray()[0],\n",
    "    index=vectorizer.get_feature_names_out()\n",
    "    ).sort_values(ascending=False)"
   ]
  },
  {
   "cell_type": "markdown",
   "id": "78021975-bb0f-400e-9cf2-ec517ed02c0d",
   "metadata": {},
   "source": [
    "## Comprendre les vecteurs et leurs \"distances\""
   ]
  },
  {
   "cell_type": "code",
   "execution_count": 15,
   "id": "6d5cc887-1b4f-453e-a77e-d96a970db44f",
   "metadata": {},
   "outputs": [
    {
     "data": {
      "text/plain": [
       "0"
      ]
     },
     "execution_count": 15,
     "metadata": {},
     "output_type": "execute_result"
    }
   ],
   "source": [
    "cosine([1, 2, 3], [1, 2, 3])"
   ]
  },
  {
   "cell_type": "code",
   "execution_count": 16,
   "id": "e7a910f2-97e6-4656-bf97-2eaba253a72e",
   "metadata": {},
   "outputs": [
    {
     "data": {
      "text/plain": [
       "0.02004211298777725"
      ]
     },
     "execution_count": 16,
     "metadata": {},
     "output_type": "execute_result"
    }
   ],
   "source": [
    "cosine([1, 2, 3], [1, 2, 2])"
   ]
  },
  {
   "cell_type": "code",
   "execution_count": 17,
   "id": "b59d523f-6d95-4ce3-9eed-8e10d8568f50",
   "metadata": {},
   "outputs": [
    {
     "data": {
      "text/plain": [
       "0.07417990022744858"
      ]
     },
     "execution_count": 17,
     "metadata": {},
     "output_type": "execute_result"
    }
   ],
   "source": [
    "cosine([1, 2, 3], [2, 2, 2])"
   ]
  },
  {
   "cell_type": "markdown",
   "id": "3d8b57df-86ad-4585-aa14-7e67314bb897",
   "metadata": {},
   "source": [
    "### Tests sur nos documents"
   ]
  },
  {
   "cell_type": "code",
   "execution_count": 18,
   "id": "6051dab3-7faf-4505-a273-f1d24c8101d7",
   "metadata": {},
   "outputs": [],
   "source": [
    "tfidf_array = tfidf_vectors.toarray()"
   ]
  },
  {
   "cell_type": "code",
   "execution_count": 19,
   "id": "60499237-d20a-431e-9e2d-b99fa50de375",
   "metadata": {},
   "outputs": [
    {
     "data": {
      "text/plain": [
       "array([0.        , 0.        , 0.        , ..., 0.00725948, 0.        ,\n",
       "       0.        ])"
      ]
     },
     "execution_count": 19,
     "metadata": {},
     "output_type": "execute_result"
    }
   ],
   "source": [
    "# Vecteur du document 0\n",
    "tfidf_array[0]"
   ]
  },
  {
   "cell_type": "code",
   "execution_count": 20,
   "id": "50c0d7f4-32a9-4d0f-b9d9-c89737feaa7b",
   "metadata": {},
   "outputs": [
    {
     "data": {
      "text/plain": [
       "array([0., 0., 0., ..., 0., 0., 0.])"
      ]
     },
     "execution_count": 20,
     "metadata": {},
     "output_type": "execute_result"
    }
   ],
   "source": [
    "# Vecteur du document 1\n",
    "tfidf_array[1]"
   ]
  },
  {
   "cell_type": "code",
   "execution_count": 21,
   "id": "14f46085-58df-4eaa-a589-7bf467d1b471",
   "metadata": {},
   "outputs": [
    {
     "data": {
      "text/plain": [
       "0.6385003677589296"
      ]
     },
     "execution_count": 21,
     "metadata": {},
     "output_type": "execute_result"
    }
   ],
   "source": [
    "cosine(tfidf_array[0], tfidf_array[1])"
   ]
  },
  {
   "cell_type": "markdown",
   "id": "a8ccbbbe-53bb-4820-97de-fc85bd33add1",
   "metadata": {},
   "source": [
    "## Appliquer un algorithme de clustering sur les vecteurs TF-IDF des documents"
   ]
  },
  {
   "cell_type": "markdown",
   "id": "3a5c9015-faa9-4a6a-aa4d-7c25fe77a7ba",
   "metadata": {},
   "source": [
    "### Définir un nombre de clusters"
   ]
  },
  {
   "cell_type": "code",
   "execution_count": 22,
   "id": "5d10ad6c-78b2-470b-a847-0517ace6a391",
   "metadata": {},
   "outputs": [],
   "source": [
    "N_CLUSTERS = 5"
   ]
  },
  {
   "cell_type": "markdown",
   "id": "b43e38d7-0478-43d0-9ffd-fb8fdc3086ea",
   "metadata": {},
   "source": [
    "### Instancier le modèle K-Means et ses arguments"
   ]
  },
  {
   "cell_type": "code",
   "execution_count": 23,
   "id": "b7a3644f-1048-4232-a4b5-652af3a77fb1",
   "metadata": {},
   "outputs": [],
   "source": [
    "km_model = KMeans(n_clusters=N_CLUSTERS)"
   ]
  },
  {
   "cell_type": "markdown",
   "id": "dc4033b1-ee60-415e-a70c-9e1aa9ff1db4",
   "metadata": {},
   "source": [
    "### Appliquer le clustering à l'aide de la fonction fit_predict"
   ]
  },
  {
   "cell_type": "code",
   "execution_count": 24,
   "id": "fff71c00-3a08-4228-bb7f-178ad422cdfe",
   "metadata": {},
   "outputs": [],
   "source": [
    "clusters = km_model.fit_predict(tfidf_vectors)"
   ]
  },
  {
   "cell_type": "code",
   "execution_count": 25,
   "id": "ed497ee9-4e05-481f-8f4d-0341cc656b5f",
   "metadata": {},
   "outputs": [],
   "source": [
    "clustering = collections.defaultdict(list)\n",
    "\n",
    "for idx, label in enumerate(clusters):\n",
    "    clustering[label].append(files[idx])"
   ]
  },
  {
   "cell_type": "code",
   "execution_count": 26,
   "id": "4b83884d-2e19-4818-b64e-06a7890109d7",
   "metadata": {},
   "outputs": [
    {
     "name": "stdout",
     "output_type": "stream",
     "text": [
      "{0: ['Bxl_1945_Tome_II2_Part_4.txt',\n",
      "     'Bxl_1945_Tome_II2_Part_5.txt',\n",
      "     'Bxl_1946_Tome_II_Part_13.txt',\n",
      "     'Bxl_1947_Tome_II_Part_10.txt',\n",
      "     'Bxl_1947_Tome_II_Part_13.txt',\n",
      "     'Bxl_1947_Tome_I_Part_8.txt',\n",
      "     'Bxl_1947_Tome_I_Part_9.txt',\n",
      "     'Bxl_1948_Tome_II_Part_11.txt',\n",
      "     'Bxl_1948_Tome_I_Part_8.txt',\n",
      "     'Bxl_1948_Tome_I_Part_9.txt',\n",
      "     'Bxl_1949_Tome_II_Part_14.txt',\n",
      "     'Bxl_1949_Tome_I_Part_7.txt'],\n",
      " 1: ['Bxl_1945_Tome_II1_Part_1.txt',\n",
      "     'Bxl_1945_Tome_II1_Part_2.txt',\n",
      "     'Bxl_1945_Tome_II1_Part_3.txt',\n",
      "     'Bxl_1945_Tome_II1_Part_4.txt',\n",
      "     'Bxl_1945_Tome_II2_Part_1.txt',\n",
      "     'Bxl_1945_Tome_II2_Part_2.txt',\n",
      "     'Bxl_1945_Tome_II2_Part_3.txt',\n",
      "     'Bxl_1945_Tome_I_Part_2.txt',\n",
      "     'Bxl_1945_Tome_I_Part_3.txt',\n",
      "     'Bxl_1945_Tome_I_Part_4.txt',\n",
      "     'Bxl_1946_Tome_II_Part_10.txt',\n",
      "     'Bxl_1946_Tome_II_Part_11.txt',\n",
      "     'Bxl_1946_Tome_II_Part_2.txt',\n",
      "     'Bxl_1946_Tome_II_Part_3.txt',\n",
      "     'Bxl_1946_Tome_II_Part_4.txt',\n",
      "     'Bxl_1946_Tome_II_Part_5.txt',\n",
      "     'Bxl_1946_Tome_I_Part_1.txt',\n",
      "     'Bxl_1946_Tome_I_Part_2.txt',\n",
      "     'Bxl_1946_Tome_I_Part_3.txt',\n",
      "     'Bxl_1946_Tome_I_Part_6.txt',\n",
      "     'Bxl_1946_Tome_I_Part_7.txt',\n",
      "     'Bxl_1947_Tome_II_Part_11.txt',\n",
      "     'Bxl_1947_Tome_II_Part_2.txt',\n",
      "     'Bxl_1947_Tome_II_Part_8.txt',\n",
      "     'Bxl_1947_Tome_II_Part_9.txt',\n",
      "     'Bxl_1947_Tome_I_Part_1.txt',\n",
      "     'Bxl_1947_Tome_I_Part_4.txt',\n",
      "     'Bxl_1947_Tome_I_Part_5.txt',\n",
      "     'Bxl_1947_Tome_I_Part_6.txt',\n",
      "     'Bxl_1947_Tome_I_Part_7.txt',\n",
      "     'Bxl_1948_Tome_II_Part_1.txt',\n",
      "     'Bxl_1948_Tome_II_Part_10.txt',\n",
      "     'Bxl_1948_Tome_II_Part_2.txt',\n",
      "     'Bxl_1948_Tome_II_Part_7.txt',\n",
      "     'Bxl_1948_Tome_I_Part_3.txt',\n",
      "     'Bxl_1948_Tome_I_Part_4.txt',\n",
      "     'Bxl_1948_Tome_I_Part_6.txt',\n",
      "     'Bxl_1948_Tome_I_Part_7.txt'],\n",
      " 2: ['Bxl_1945_Tome_II1_Part_5.txt',\n",
      "     'Bxl_1945_Tome_II1_Part_6.txt',\n",
      "     'Bxl_1945_Tome_II1_Part_7.txt',\n",
      "     'Bxl_1945_Tome_II1_Part_8.txt',\n",
      "     'Bxl_1945_Tome_II1_Part_9.txt',\n",
      "     'Bxl_1946_Tome_II_Part_14.txt',\n",
      "     'Bxl_1946_Tome_II_Part_6.txt',\n",
      "     'Bxl_1946_Tome_II_Part_7.txt',\n",
      "     'Bxl_1946_Tome_II_Part_8.txt',\n",
      "     'Bxl_1946_Tome_II_Part_9.txt',\n",
      "     'Bxl_1947_Tome_II_Part_3.txt',\n",
      "     'Bxl_1947_Tome_II_Part_4.txt',\n",
      "     'Bxl_1947_Tome_II_Part_5.txt',\n",
      "     'Bxl_1947_Tome_II_Part_6.txt',\n",
      "     'Bxl_1947_Tome_II_Part_7.txt',\n",
      "     'Bxl_1948_Tome_II_Part_3.txt',\n",
      "     'Bxl_1948_Tome_II_Part_4.txt',\n",
      "     'Bxl_1948_Tome_II_Part_5.txt',\n",
      "     'Bxl_1948_Tome_II_Part_6.txt',\n",
      "     'Bxl_1948_Tome_I_Part_5.txt',\n",
      "     'Bxl_1949_Tome_II_Part_4.txt',\n",
      "     'Bxl_1949_Tome_II_Part_5.txt',\n",
      "     'Bxl_1949_Tome_II_Part_6.txt',\n",
      "     'Bxl_1949_Tome_II_Part_7.txt',\n",
      "     'Bxl_1949_Tome_II_Part_8.txt'],\n",
      " 3: ['Bxl_1947_Tome_II_Part_1.txt',\n",
      "     'Bxl_1947_Tome_I_Part_3.txt',\n",
      "     'Bxl_1948_Tome_II_Part_8.txt',\n",
      "     'Bxl_1948_Tome_I_Part_2.txt',\n",
      "     'Bxl_1949_Tome_II_Part_1.txt',\n",
      "     'Bxl_1949_Tome_II_Part_10.txt',\n",
      "     'Bxl_1949_Tome_II_Part_12.txt',\n",
      "     'Bxl_1949_Tome_II_Part_13.txt',\n",
      "     'Bxl_1949_Tome_II_Part_2.txt',\n",
      "     'Bxl_1949_Tome_II_Part_3.txt',\n",
      "     'Bxl_1949_Tome_II_Part_9.txt',\n",
      "     'Bxl_1949_Tome_I_Part_1.txt',\n",
      "     'Bxl_1949_Tome_I_Part_2.txt',\n",
      "     'Bxl_1949_Tome_I_Part_3.txt',\n",
      "     'Bxl_1949_Tome_I_Part_4.txt',\n",
      "     'Bxl_1949_Tome_I_Part_5.txt',\n",
      "     'Bxl_1949_Tome_I_Part_6.txt'],\n",
      " 4: ['Bxl_1945_Tome_I_Part_1.txt',\n",
      "     'Bxl_1946_Tome_II_Part_1.txt',\n",
      "     'Bxl_1946_Tome_II_Part_12.txt',\n",
      "     'Bxl_1946_Tome_I_Part_4.txt',\n",
      "     'Bxl_1946_Tome_I_Part_5.txt',\n",
      "     'Bxl_1947_Tome_II_Part_12.txt',\n",
      "     'Bxl_1947_Tome_I_Part_2.txt',\n",
      "     'Bxl_1948_Tome_II_Part_9.txt',\n",
      "     'Bxl_1948_Tome_I_Part_1.txt',\n",
      "     'Bxl_1949_Tome_II_Part_11.txt']}\n"
     ]
    }
   ],
   "source": [
    "pprint(dict(clustering))"
   ]
  },
  {
   "cell_type": "markdown",
   "id": "61b96db4-6c91-45c1-875f-afe835758fd0",
   "metadata": {},
   "source": [
    "## Visualiser les clusters"
   ]
  },
  {
   "cell_type": "markdown",
   "id": "c3b80216-e7b6-4ef3-89fe-ec1ccbba839f",
   "metadata": {},
   "source": [
    "### Réduire les vecteurs à 2 dimensions à l'aide de l'algorithme PCA"
   ]
  },
  {
   "cell_type": "code",
   "execution_count": 27,
   "id": "3baaf3cf-a6a1-4b30-aea8-f7563630167b",
   "metadata": {},
   "outputs": [],
   "source": [
    "pca = PCA(n_components=2)\n",
    "reduced_vectors = pca.fit_transform(tfidf_vectors.toarray())"
   ]
  },
  {
   "cell_type": "code",
   "execution_count": 28,
   "id": "a3bcf8d4-8087-4da4-b328-3464ba1fe400",
   "metadata": {},
   "outputs": [
    {
     "data": {
      "text/plain": [
       "array([[-0.04777722, -0.20407229],\n",
       "       [-0.07837261, -0.18361872],\n",
       "       [-0.0736378 , -0.20658646],\n",
       "       [ 0.10950997, -0.11299874],\n",
       "       [ 0.42119337,  0.08088168],\n",
       "       [ 0.36371239,  0.05457197],\n",
       "       [ 0.25769841,  0.05174975],\n",
       "       [ 0.25819912,  0.01281617],\n",
       "       [ 0.28603207,  0.05545343],\n",
       "       [ 0.1075756 , -0.06832979]])"
      ]
     },
     "execution_count": 28,
     "metadata": {},
     "output_type": "execute_result"
    }
   ],
   "source": [
    "reduced_vectors[:10]"
   ]
  },
  {
   "cell_type": "markdown",
   "id": "6c678ea4-4c4e-4d1f-a43b-81b6af8fdd89",
   "metadata": {},
   "source": [
    "### Générer le plot"
   ]
  },
  {
   "cell_type": "code",
   "execution_count": 29,
   "id": "f1aa25b3-fe71-42bf-8ba7-4ec204151cbb",
   "metadata": {},
   "outputs": [
    {
     "data": {
      "text/plain": [
       "<matplotlib.legend.Legend at 0x7fef8af6e760>"
      ]
     },
     "execution_count": 29,
     "metadata": {},
     "output_type": "execute_result"
    },
    {
     "data": {
      "image/png": "[encoded data removed]",
      "text/plain": [
       "<Figure size 720x720 with 1 Axes>"
      ]
     },
     "metadata": {
      "needs_background": "light"
     },
     "output_type": "display_data"
    }
   ],
   "source": [
    "x_axis = reduced_vectors[:, 0]\n",
    "y_axis = reduced_vectors[:, 1]\n",
    "\n",
    "plt.figure(figsize=(10,10))\n",
    "scatter = plt.scatter(x_axis, y_axis, s=100, c=clusters)\n",
    "\n",
    "# Ajouter les centroïdes\n",
    "centroids = pca.transform(km_model.cluster_centers_)\n",
    "plt.scatter(centroids[:, 0], centroids[:, 1],  marker = \"x\", s=100, linewidths = 2, color='black')\n",
    "\n",
    "# Ajouter la légende\n",
    "plt.legend(handles=scatter.legend_elements()[0], labels=set(clusters), title=\"Clusters\")"
   ]
  },
  {
   "cell_type": "markdown",
   "id": "275cd2c6-3705-4fd4-b375-86e02cbcabb1",
   "metadata": {},
   "source": [
    "# Word Embeddings : le modèle Word2Vec"
   ]
  },
  {
   "cell_type": "markdown",
   "id": "14ddf169-5d27-4b0c-8e46-3dc9dce090fd",
   "metadata": {},
   "source": [
    "### Imports"
   ]
  },
  {
   "cell_type": "code",
   "execution_count": 30,
   "id": "42891842-5d12-4c37-952a-91e3d755f185",
   "metadata": {},
   "outputs": [],
   "source": [
    "import sys\n",
    "\n",
    "from gensim.models.phrases import Phrases, Phraser\n",
    "from gensim.models import Word2Vec\n",
    "\n",
    "import nltk\n",
    "from nltk.tokenize import wordpunct_tokenize\n",
    "from unidecode import unidecode"
   ]
  },
  {
   "cell_type": "markdown",
   "id": "d66cef00-338c-47eb-8d17-e4f5f8c45cee",
   "metadata": {},
   "source": [
    "## Chargement et traitement des phrases du corpus"
   ]
  },
  {
   "cell_type": "markdown",
   "id": "5bb708a4-7ccb-4a30-b18e-f9d3259b6c71",
   "metadata": {},
   "source": [
    "### Création d'un objet qui streame les lignes d'un fichier pour économiser de la RAM"
   ]
  },
  {
   "cell_type": "code",
   "execution_count": 1,
   "id": "9e0509ff-1018-4b13-b213-2752577727d3",
   "metadata": {},
   "outputs": [],
   "source": [
    "class MySentences(object):\n",
    "    \"\"\"Tokenize and Lemmatize sentences\"\"\"\n",
    "    def __init__(self, filename):\n",
    "        self.filename = filename\n",
    "\n",
    "    def __iter__(self):\n",
    "        for line in open(self.filename, encoding='utf-8', errors=\"backslashreplace\"):\n",
    "            yield [unidecode(w.lower()) for w in wordpunct_tokenize(line)]"
   ]
  },
  {
   "cell_type": "code",
   "execution_count": 4,
   "id": "824dbda6-faa3-4046-9c08-cfd932dcaa0a",
   "metadata": {},
   "outputs": [],
   "source": [
    "infile = f\"../data/sents.txt\"\n",
    "sentences = MySentences(infile)"
   ]
  },
  {
   "cell_type": "markdown",
   "id": "aad2952c-213a-4c7f-8ea9-4f7a129c6f28",
   "metadata": {},
   "source": [
    "### Détection des bigrams"
   ]
  },
  {
   "cell_type": "code",
   "execution_count": 5,
   "id": "7930ae3b-12da-485c-929f-45282a887688",
   "metadata": {},
   "outputs": [
    {
     "ename": "NameError",
     "evalue": "name 'Phrases' is not defined",
     "output_type": "error",
     "traceback": [
      "\u001b[0;31m---------------------------------------------------------------------------\u001b[0m",
      "\u001b[0;31mNameError\u001b[0m                                 Traceback (most recent call last)",
      "\u001b[0;32m/tmp/ipykernel_11/2069706291.py\u001b[0m in \u001b[0;36m<module>\u001b[0;34m\u001b[0m\n\u001b[0;32m----> 1\u001b[0;31m \u001b[0mbigram_phrases\u001b[0m \u001b[0;34m=\u001b[0m \u001b[0mPhrases\u001b[0m\u001b[0;34m(\u001b[0m\u001b[0msentences\u001b[0m\u001b[0;34m)\u001b[0m\u001b[0;34m\u001b[0m\u001b[0;34m\u001b[0m\u001b[0m\n\u001b[0m",
      "\u001b[0;31mNameError\u001b[0m: name 'Phrases' is not defined"
     ]
    }
   ],
   "source": [
    "#Avec Data/sents ça ne marche pas et avec data/sents_short ça ne marche pas. J'ai écourté le fichier txt et rien ne marche. \n",
    "#J'ai essayé de faire un rapport commode mais je pense que jupyterlab ne m'aime pas :'D\n",
    "bigram_phrases = Phrases(sentences)"
   ]
  },
  {
   "cell_type": "code",
   "execution_count": 37,
   "id": "a1102740-1bb7-4e79-b010-9a4c3468742a",
   "metadata": {},
   "outputs": [
    {
     "ename": "NameError",
     "evalue": "name 'bigram_phrases' is not defined",
     "output_type": "error",
     "traceback": [
      "\u001b[0;31m---------------------------------------------------------------------------\u001b[0m",
      "\u001b[0;31mNameError\u001b[0m                                 Traceback (most recent call last)",
      "\u001b[0;32m/tmp/ipykernel_17/2492353050.py\u001b[0m in \u001b[0;36m<module>\u001b[0;34m\u001b[0m\n\u001b[0;32m----> 1\u001b[0;31m \u001b[0mlen\u001b[0m\u001b[0;34m(\u001b[0m\u001b[0mbigram_phrases\u001b[0m\u001b[0;34m.\u001b[0m\u001b[0mvocab\u001b[0m\u001b[0;34m.\u001b[0m\u001b[0mkeys\u001b[0m\u001b[0;34m(\u001b[0m\u001b[0;34m)\u001b[0m\u001b[0;34m)\u001b[0m\u001b[0;34m\u001b[0m\u001b[0;34m\u001b[0m\u001b[0m\n\u001b[0m",
      "\u001b[0;31mNameError\u001b[0m: name 'bigram_phrases' is not defined"
     ]
    }
   ],
   "source": [
    "len(bigram_phrases.vocab.keys())"
   ]
  },
  {
   "cell_type": "code",
   "execution_count": 38,
   "id": "3ff2bff2-2a60-49aa-893b-871fc685f2fe",
   "metadata": {},
   "outputs": [
    {
     "ename": "NameError",
     "evalue": "name 'bigram_phrases' is not defined",
     "output_type": "error",
     "traceback": [
      "\u001b[0;31m---------------------------------------------------------------------------\u001b[0m",
      "\u001b[0;31mNameError\u001b[0m                                 Traceback (most recent call last)",
      "\u001b[0;32m/tmp/ipykernel_17/2958045778.py\u001b[0m in \u001b[0;36m<module>\u001b[0;34m\u001b[0m\n\u001b[1;32m      1\u001b[0m \u001b[0;31m# Prenons une clé au hasard\u001b[0m\u001b[0;34m\u001b[0m\u001b[0;34m\u001b[0m\u001b[0m\n\u001b[0;32m----> 2\u001b[0;31m \u001b[0mkey_\u001b[0m \u001b[0;34m=\u001b[0m \u001b[0mlist\u001b[0m\u001b[0;34m(\u001b[0m\u001b[0mbigram_phrases\u001b[0m\u001b[0;34m.\u001b[0m\u001b[0mvocab\u001b[0m\u001b[0;34m.\u001b[0m\u001b[0mkeys\u001b[0m\u001b[0;34m(\u001b[0m\u001b[0;34m)\u001b[0m\u001b[0;34m)\u001b[0m\u001b[0;34m[\u001b[0m\u001b[0;36m144\u001b[0m\u001b[0;34m]\u001b[0m\u001b[0;34m\u001b[0m\u001b[0;34m\u001b[0m\u001b[0m\n\u001b[0m\u001b[1;32m      3\u001b[0m \u001b[0mprint\u001b[0m\u001b[0;34m(\u001b[0m\u001b[0mkey_\u001b[0m\u001b[0;34m)\u001b[0m\u001b[0;34m\u001b[0m\u001b[0;34m\u001b[0m\u001b[0m\n",
      "\u001b[0;31mNameError\u001b[0m: name 'bigram_phrases' is not defined"
     ]
    }
   ],
   "source": [
    "# Prenons une clé au hasard\n",
    "key_ = list(bigram_phrases.vocab.keys())[144]\n",
    "print(key_)"
   ]
  },
  {
   "cell_type": "code",
   "execution_count": 64,
   "id": "a44c0591-a21a-4e63-9bcc-0a0f0ff4191d",
   "metadata": {},
   "outputs": [
    {
     "data": {
      "text/plain": [
       "6"
      ]
     },
     "execution_count": 64,
     "metadata": {},
     "output_type": "execute_result"
    }
   ],
   "source": [
    "bigram_phrases.vocab[key_]"
   ]
  },
  {
   "cell_type": "markdown",
   "id": "c057a938-bd7e-435d-8681-bffdaaa18e79",
   "metadata": {},
   "source": [
    "### Conversion des `Phrases` en objet `Phraser`\n",
    "\n",
    "`Phraser` est un alias pour `gensim.models.phrases.FrozenPhrases`\n",
    "Le `Phraser` est une version *light* du `Phrases`, plus optimale pour transformer les phrases en concaténant les bigrams."
   ]
  },
  {
   "cell_type": "code",
   "execution_count": 6,
   "id": "e2fa2950-48ea-424c-bb85-dc07d2e0e0b8",
   "metadata": {},
   "outputs": [
    {
     "ename": "NameError",
     "evalue": "name 'Phraser' is not defined",
     "output_type": "error",
     "traceback": [
      "\u001b[0;31m---------------------------------------------------------------------------\u001b[0m",
      "\u001b[0;31mNameError\u001b[0m                                 Traceback (most recent call last)",
      "\u001b[0;32m/tmp/ipykernel_11/531497944.py\u001b[0m in \u001b[0;36m<module>\u001b[0;34m\u001b[0m\n\u001b[0;32m----> 1\u001b[0;31m \u001b[0mbigram_phraser\u001b[0m \u001b[0;34m=\u001b[0m \u001b[0mPhraser\u001b[0m\u001b[0;34m(\u001b[0m\u001b[0mphrases_model\u001b[0m\u001b[0;34m=\u001b[0m\u001b[0mbigram_phrases\u001b[0m\u001b[0;34m)\u001b[0m\u001b[0;34m\u001b[0m\u001b[0;34m\u001b[0m\u001b[0m\n\u001b[0m",
      "\u001b[0;31mNameError\u001b[0m: name 'Phraser' is not defined"
     ]
    }
   ],
   "source": [
    "bigram_phraser = Phraser(phrases_model=bigram_phrases)"
   ]
  },
  {
   "cell_type": "markdown",
   "id": "605d6d5e-0aca-4e8e-830e-4f5c7bbcca22",
   "metadata": {},
   "source": [
    "### Extraction des trigrams"
   ]
  },
  {
   "cell_type": "code",
   "execution_count": 68,
   "id": "040fd4fa-e728-486c-b319-95339432bc91",
   "metadata": {},
   "outputs": [],
   "source": [
    "trigram_phrases = Phrases(bigram_phraser[sentences])"
   ]
  },
  {
   "cell_type": "code",
   "execution_count": 69,
   "id": "638edf0c-1928-41b4-914f-88b6562d62cc",
   "metadata": {},
   "outputs": [],
   "source": [
    "trigram_phraser = Phraser(phrases_model=trigram_phrases)"
   ]
  },
  {
   "cell_type": "markdown",
   "id": "8d5b9ca7-fc42-4307-a116-38029f1d2dab",
   "metadata": {},
   "source": [
    "### Création d'un corpus d'unigrams, bigrams, trigram"
   ]
  },
  {
   "cell_type": "code",
   "execution_count": null,
   "id": "0d7daa08-f8f4-4cbc-8d24-b02a39f9a0c0",
   "metadata": {},
   "outputs": [],
   "source": [
    "corpus = list(trigram_phraser[bigram_phraser[sentences]])"
   ]
  },
  {
   "cell_type": "code",
   "execution_count": null,
   "id": "5dff064e-f1f5-4d47-9a20-7057f69e2a30",
   "metadata": {},
   "outputs": [],
   "source": [
    "print(corpus[:100])"
   ]
  },
  {
   "cell_type": "markdown",
   "id": "42f9b984-d54a-4048-87c2-767e325e0c36",
   "metadata": {},
   "source": [
    "## Entrainement d'un modèle Word2Vec sur ce corpus"
   ]
  },
  {
   "cell_type": "code",
   "execution_count": null,
   "id": "99eddd76-400d-438d-8651-e6ba39a8afad",
   "metadata": {},
   "outputs": [],
   "source": [
    "%%time\n",
    "model = Word2Vec(\n",
    "    corpus, # On passe le corpus de ngrams que nous venons de créer\n",
    "    vector_size=32, # Le nombre de dimensions dans lesquelles le contexte des mots devra être réduit, aka. vector_size\n",
    "    window=5, # La taille du \"contexte\", ici 5 mots avant et après le mot observé\n",
    "    min_count=5, # On ignore les mots qui n'apparaissent pas au moins 5 fois dans le corpus\n",
    "    workers=4, # Permet de paralléliser l'entraînement du modèle en 4 threads\n",
    "    epochs=5 # Nombre d'itérations du réseau de neurones sur le jeu de données pour ajuster les paramètres avec la descende de gradient, aka. epochs.\n",
    ")"
   ]
  },
  {
   "cell_type": "markdown",
   "id": "ea798e16-e60c-4866-bdf4-069b8ef38125",
   "metadata": {},
   "source": [
    "### Sauver le modèle dans un fichier"
   ]
  },
  {
   "cell_type": "code",
   "execution_count": null,
   "id": "71c4ff77-b798-43ed-b46a-fa16b1cc0a7a",
   "metadata": {},
   "outputs": [],
   "source": [
    "outfile = f\"../data/bulletins.model\"\n",
    "model.save(outfile)"
   ]
  },
  {
   "cell_type": "markdown",
   "id": "3bfb51fe-0e31-464b-ada7-61c8866c8a88",
   "metadata": {},
   "source": [
    "## Explorer le modèle"
   ]
  },
  {
   "cell_type": "markdown",
   "id": "d5ce56ca-5e8a-46a1-b997-5d10ed756bc3",
   "metadata": {},
   "source": [
    "### Charger le modèle en mémoire"
   ]
  },
  {
   "cell_type": "code",
   "execution_count": null,
   "id": "6b0d3caa-f11f-4f40-ba00-393d96d86c63",
   "metadata": {},
   "outputs": [],
   "source": [
    "model = Word2Vec.load(\"../data/bulletins.model\")"
   ]
  },
  {
   "cell_type": "markdown",
   "id": "472cfca8-3d45-48b0-ac4a-502ee199744f",
   "metadata": {},
   "source": [
    "### Imprimer le vecteur d'un terme"
   ]
  },
  {
   "cell_type": "code",
   "execution_count": 2,
   "id": "98e5de40-b3bb-4e60-ae6d-cf0ef8e453d1",
   "metadata": {},
   "outputs": [
    {
     "ename": "NameError",
     "evalue": "name 'model' is not defined",
     "output_type": "error",
     "traceback": [
      "\u001b[0;31m---------------------------------------------------------------------------\u001b[0m",
      "\u001b[0;31mNameError\u001b[0m                                 Traceback (most recent call last)",
      "\u001b[0;32m/tmp/ipykernel_14/613580425.py\u001b[0m in \u001b[0;36m<module>\u001b[0;34m\u001b[0m\n\u001b[0;32m----> 1\u001b[0;31m \u001b[0mmodel\u001b[0m\u001b[0;34m.\u001b[0m\u001b[0mwv\u001b[0m\u001b[0;34m[\u001b[0m\u001b[0;34m\"bruxelles\"\u001b[0m\u001b[0;34m]\u001b[0m\u001b[0;34m\u001b[0m\u001b[0;34m\u001b[0m\u001b[0m\n\u001b[0m",
      "\u001b[0;31mNameError\u001b[0m: name 'model' is not defined"
     ]
    }
   ],
   "source": [
    "model.wv[\"bruxelles\"]"
   ]
  },
  {
   "cell_type": "markdown",
   "id": "7d724987-58e3-4c81-93c7-66f43846dad4",
   "metadata": {},
   "source": [
    "### Calculer la similarité entre deux termes"
   ]
  },
  {
   "cell_type": "code",
   "execution_count": 1,
   "id": "940ded31-bb66-40ee-84ab-1814fffcc177",
   "metadata": {},
   "outputs": [
    {
     "ename": "NameError",
     "evalue": "name 'model' is not defined",
     "output_type": "error",
     "traceback": [
      "\u001b[0;31m---------------------------------------------------------------------------\u001b[0m",
      "\u001b[0;31mNameError\u001b[0m                                 Traceback (most recent call last)",
      "\u001b[0;32m/tmp/ipykernel_14/2123037468.py\u001b[0m in \u001b[0;36m<module>\u001b[0;34m\u001b[0m\n\u001b[0;32m----> 1\u001b[0;31m \u001b[0mmodel\u001b[0m\u001b[0;34m.\u001b[0m\u001b[0mwv\u001b[0m\u001b[0;34m.\u001b[0m\u001b[0msimilarity\u001b[0m\u001b[0;34m(\u001b[0m\u001b[0;34m\"hospice\"\u001b[0m\u001b[0;34m,\u001b[0m \u001b[0;34m\"hôpital\"\u001b[0m\u001b[0;34m)\u001b[0m\u001b[0;34m\u001b[0m\u001b[0;34m\u001b[0m\u001b[0m\n\u001b[0m\u001b[1;32m      2\u001b[0m \u001b[0mmodel\u001b[0m\u001b[0;34m.\u001b[0m\u001b[0mwv\u001b[0m\u001b[0;34m.\u001b[0m\u001b[0msimilarity\u001b[0m\u001b[0;34m(\u001b[0m\u001b[0;34m\"établissement\"\u001b[0m\u001b[0;34m,\u001b[0m \u001b[0;34m\"rétablissement\"\u001b[0m\u001b[0;34m)\u001b[0m\u001b[0;34m\u001b[0m\u001b[0;34m\u001b[0m\u001b[0m\n\u001b[1;32m      3\u001b[0m \u001b[0mmodel\u001b[0m\u001b[0;34m.\u001b[0m\u001b[0mwv\u001b[0m\u001b[0;34m.\u001b[0m\u001b[0msimilarity\u001b[0m\u001b[0;34m(\u001b[0m\u001b[0;34m\"hospice\"\u001b[0m\u001b[0;34m,\u001b[0m \u001b[0;34m\"hopital\"\u001b[0m\u001b[0;34m)\u001b[0m\u001b[0;34m\u001b[0m\u001b[0;34m\u001b[0m\u001b[0m\n",
      "\u001b[0;31mNameError\u001b[0m: name 'model' is not defined"
     ]
    }
   ],
   "source": [
    "model.wv.similarity(\"hospice\", \"hôpital\")\n",
    "model.wv.similarity(\"établissement\", \"rétablissement\")\n",
    "model.wv.similarity(\"mètres\", \"mettre\")\n",
    "model.wv.similarity(\"suffire\", \"souffrir\")\n",
    "model.wv.similarity(\"valoir\", \"falloir\")\n",
    "model.wv.similarity(\"entreprendre\", \"entreprise\")"
   ]
  },
  {
   "cell_type": "markdown",
   "id": "1cee1bbf-04ca-434d-b65e-fc9f645d6131",
   "metadata": {},
   "source": [
    "### Chercher les mots les plus proches d'un terme donné"
   ]
  },
  {
   "cell_type": "code",
   "execution_count": null,
   "id": "cb75c6dc-d837-40e7-a6b5-0963dc24985b",
   "metadata": {},
   "outputs": [],
   "source": [
    "model.wv.most_similar(\"bruxelles\", topn=10)\n",
    "model.wv.most_similar(\"public\", topn=10)\n",
    "model.wv.most_similar(\"commune\", topn=10)\n",
    "model.wv.most_similar(\"hôpital\", topn=10)"
   ]
  },
  {
   "cell_type": "markdown",
   "id": "38000f9f-61da-47fe-8a67-cb604b51a332",
   "metadata": {},
   "source": [
    "### Faire des recherches complexes à travers l'espace vectoriel"
   ]
  },
  {
   "cell_type": "code",
   "execution_count": null,
   "id": "7ffb1a77-d6b7-4a0a-b004-e116b403468d",
   "metadata": {},
   "outputs": [],
   "source": [
    "print(model.wv.most_similar(positive=['bruxelles', 'france'], negative=['belgique']))"
   ]
  },
  {
   "cell_type": "code",
   "execution_count": null,
   "id": "fbeedf6c-7b67-444a-9cec-4e38b47520a5",
   "metadata": {},
   "outputs": [],
   "source": []
  }
 ],
 "metadata": {
  "kernelspec": {
   "display_name": "Python 3 (ipykernel)",
   "language": "python",
   "name": "python3"
  },
  "language_info": {
   "codemirror_mode": {
    "name": "ipython",
    "version": 3
   },
   "file_extension": ".py",
   "mimetype": "text/x-python",
   "name": "python",
   "nbconvert_exporter": "python",
   "pygments_lexer": "ipython3",
   "version": "3.9.7"
  }
 },
 "nbformat": 4,
 "nbformat_minor": 5
}
