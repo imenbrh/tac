{
 "cells": [
  {
   "cell_type": "markdown",
   "id": "b711116b-7eec-49c6-8909-9c2a91c43382",
   "metadata": {},
   "source": [
    "# APIs: requêtes HTTP"
   ]
  },
  {
   "cell_type": "markdown",
   "id": "27d2ce61-7e47-4b1d-bf69-ce8ab3ce1ff9",
   "metadata": {},
   "source": [
    "## Imports"
   ]
  },
  {
   "cell_type": "code",
   "execution_count": 2,
   "id": "2e013615-7a3c-4d14-a37e-d8ec65a02fb9",
   "metadata": {},
   "outputs": [],
   "source": [
    "import json\n",
    "import requests\n",
    "from pprint import pprint\n",
    "import requests"
   ]
  },
  {
   "cell_type": "markdown",
   "id": "51d7f701-9f1d-4e60-963a-758e109e062b",
   "metadata": {},
   "source": [
    "## Coordonnées géographiques d'adresse de cimetières"
   ]
  },
  {
   "cell_type": "code",
   "execution_count": 3,
   "id": "02f4f3c7-432a-4c91-930a-766a3413f7ad",
   "metadata": {},
   "outputs": [],
   "source": [
    "def print_info(cimetieres):\n",
    "    \"\"\"Rercherche d'informations liées aux cimetières : récupérer la localisation\"\"\"\n",
    "    osm = \"https://opendata.bruxelles.be/api/records/1.0/search/\"\n",
    "    data = {'dataset': 'cimetieres','format':'json'}\n",
    "    resp = requests.get(osm, data)\n",
    "    json_list = json.loads(resp.text)\n",
    "    print(\"Number of cemeteries found: \", json_list['nhits'], end='\\n')\n",
    "    for CimRecord in json_list['records']:\n",
    "        try:\n",
    "            print('\\t- commune: ', CimRecord['fields']['commune'], end='\\n')\n",
    "        except KeyError:\n",
    "            pass\n",
    "\n",
    "        try:\n",
    "            print('\\t- Coordonnées: ', CimRecord['fields']['geo_coordinates'], end='\\n')\n",
    "        except KeyError:\n",
    "            pass"
   ]
  },
  {
   "cell_type": "markdown",
   "id": "191e8f7e-d8b9-4665-bc51-e02e17574b0f",
   "metadata": {},
   "source": [
    "## Coordonnées géographiques d'adresse de monuments funéraires"
   ]
  },
  {
   "cell_type": "code",
   "execution_count": 4,
   "id": "61b1acb5-47fb-4a7a-90f9-d0c33194184b",
   "metadata": {},
   "outputs": [
    {
     "name": "stdout",
     "output_type": "stream",
     "text": [
      "Number of cemeteries found:  4\n",
      "\t- commune:  Laeken\n",
      "\t- commune:  Evere\n",
      "\t- commune:  Neder-Over-Heembeek\n",
      "\t- commune:  Haren\n",
      "Number of funeral monuments found:  20\n",
      "\t- Nom de monument:  Tombeau Marie Pleyel\n",
      "\t- Coordonnées:  [50.8787862, 4.3549393]\n",
      "\t- Nom de monument:  Monument de Georges Renoy\n",
      "\t- Coordonnées:  [50.8804628, 4.3523802]\n",
      "\t- Nom de monument:  Le Penseur de Rodin\n",
      "\t- Coordonnées:  [50.8801138, 4.3546755]\n",
      "\t- Nom de monument:  Tombeau de La Malibra, cantatrice\n",
      "\t- Coordonnées:  [50.879473, 4.3545169]\n",
      "\t- Nom de monument:  Monument de la famille Straetmans\n",
      "\t- Coordonnées:  [50.8800678, 4.3545085]\n",
      "\t- Nom de monument:  Monument en forme de dolmen\n",
      "\t- Coordonnées:  [50.8796071, 4.3533254]\n",
      "\t- Nom de monument:  Monument de la famille Duysburgh-Van De Cruyce\n",
      "\t- Coordonnées:  [50.8790885, 4.3538816]\n",
      "\t- Nom de monument:  Monument Missotten-Hoebers\n",
      "\t- Coordonnées:  [50.8805666, 4.3525865]\n",
      "\t- Nom de monument:  Monument de la famille Suys\n",
      "\t- Coordonnées:  [50.8795192, 4.3538544]\n",
      "\t- Nom de monument:  Sépulture Léonce Evrard (intérieur)\n",
      "\t- Coordonnées:  [50.8800992, 4.3544532]\n"
     ]
    }
   ],
   "source": [
    "def print_info_bis(monuments):\n",
    "    \"\"\"Rercherche d'informations liées aux monuments : récupérer la localisation\"\"\"\n",
    "    osm = \"https://opendata.bruxelles.be/api/records/1.0/search/\"\n",
    "    data = {'dataset': 'monuments-funeraires-du-cimetiere-de-laeken','format':'json'}\n",
    "    resp = requests.get(osm, data)\n",
    "    json_list = json.loads(resp.text)\n",
    "    print(\"Number of funeral monuments found: \", json_list['nhits'], end='\\n')\n",
    "    for MonRecord in json_list['records']:\n",
    "        try:\n",
    "            print('\\t- Nom de monument: ', MonRecord['fields']['monument'], end='\\n')\n",
    "        except KeyError:\n",
    "            pass\n",
    "\n",
    "        try:\n",
    "            print('\\t- Coordonnées: ', MonRecord['fields']['geocoordinates'], end='\\n')\n",
    "        except KeyError:\n",
    "            pass\n",
    "\n",
    "\n",
    "cimetieres = '*'\n",
    "monuments = '*'\n",
    "print_info(cimetieres) \n",
    "print_info_bis(monuments) "
   ]
  },
  {
   "cell_type": "code",
   "execution_count": null,
   "id": "bc972e10-c272-4d5e-8973-58f9c8f7b626",
   "metadata": {},
   "outputs": [],
   "source": []
  }
 ],
 "metadata": {
  "kernelspec": {
   "display_name": "Python 3 (ipykernel)",
   "language": "python",
   "name": "python3"
  },
  "language_info": {
   "codemirror_mode": {
    "name": "ipython",
    "version": 3
   },
   "file_extension": ".py",
   "mimetype": "text/x-python",
   "name": "python",
   "nbconvert_exporter": "python",
   "pygments_lexer": "ipython3",
   "version": "3.11.6"
  }
 },
 "nbformat": 4,
 "nbformat_minor": 5
}
