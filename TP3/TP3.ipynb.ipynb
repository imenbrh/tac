{
 "cells": [
  {
   "cell_type": "markdown",
   "id": "79d1ddf9-108d-44e0-a7e8-bf3be5ab0077",
   "metadata": {},
   "source": [
    "# Clustering et word2vec "
   ]
  },
  {
   "cell_type": "markdown",
   "id": "3245cf8c",
   "metadata": {},
   "source": [
    "### Imports"
   ]
  },
  {
   "cell_type": "code",
   "execution_count": null,
   "metadata": {},
   "outputs": [],
   "source": [
    "#Pour les modules non installés :\n",
    "pip install pandas\n",
    "pip install scikit-learn\n",
    "pip install gensim\n",
    "pip install unidecode"
   ]
  },
  {
   "cell_type": "code",
   "execution_count": 1,
   "id": "0d9e52ff-bdff-4a27-981e-35818ac97e73",
   "metadata": {},
   "outputs": [],
   "source": [
    "import collections\n",
    "import os\n",
    "import string\n",
    "import sys\n",
    "\n",
    "import pandas as pd\n",
    "from nltk import word_tokenize\n",
    "from nltk.corpus import stopwords\n",
    "from pprint import pprint\n",
    "from sklearn.cluster import KMeans\n",
    "from sklearn.feature_extraction.text import TfidfVectorizer\n",
    "from sklearn.decomposition import PCA\n",
    "import numpy as np\n",
    "import matplotlib.pyplot as plt\n",
    "from scipy.spatial.distance import cosine"
   ]
  },
  {
   "cell_type": "code",
   "execution_count": 2,
   "id": "1b737d42-f79f-478a-aff1-a85155cda30f",
   "metadata": {},
   "outputs": [
    {
     "name": "stderr",
     "output_type": "stream",
     "text": [
      "[nltk_data] Downloading package punkt to\n",
      "[nltk_data]     C:\\Users\\Imen\\AppData\\Roaming\\nltk_data...\n",
      "[nltk_data]   Package punkt is already up-to-date!\n"
     ]
    },
    {
     "data": {
      "text/plain": [
       "True"
      ]
     },
     "execution_count": 2,
     "metadata": {},
     "output_type": "execute_result"
    }
   ],
   "source": [
    "import nltk\n",
    "\n",
    "nltk.download('punkt')"
   ]
  },
  {
   "cell_type": "code",
   "execution_count": 3,
   "id": "7fa27b13-6e83-4af6-9b6c-7a8ac8009032",
   "metadata": {},
   "outputs": [],
   "source": [
    "data_path = \"../data/txt/\""
   ]
  },
  {
   "cell_type": "markdown",
   "metadata": {},
   "source": [
    "### Effectuer un clustering des bulletins de la décennie 1960 et l'adaptation du nombre de clusters désirés"
   ]
  },
  {
   "cell_type": "code",
   "execution_count": 4,
   "id": "258d10ae-ec5e-40e7-9960-fe772676963a",
   "metadata": {},
   "outputs": [],
   "source": [
    "# Choisir la décennie 1960 et le nombre de clusters\n",
    "DECADE = '1960'\n",
    "N_CLUSTERS = 3"
   ]
  },
  {
   "cell_type": "markdown",
   "id": "11522255-72bd-40d5-a369-9d7bd1c9e19b",
   "metadata": {},
   "source": [
    "### Charger tous les fichiers de la décennie et en créer une liste de textes"
   ]
  },
  {
   "cell_type": "code",
   "execution_count": 5,
   "id": "6c217f3d-7b89-484c-9e70-6d7c8742db4b",
   "metadata": {},
   "outputs": [],
   "source": [
    "files = [f for f in sorted(os.listdir(data_path)) if f\"_{DECADE[:-1]}\" in f]"
   ]
  },
  {
   "cell_type": "code",
   "execution_count": 6,
   "id": "c486995f-a7bf-4fc4-9068-d26da6354afa",
   "metadata": {},
   "outputs": [
    {
     "data": {
      "text/plain": [
       "['KB_JB838_1960-01-10_01-00018.txt',\n",
       " 'KB_JB838_1960-01-12_01-00011.txt',\n",
       " 'KB_JB838_1960-01-13_01-00009.txt',\n",
       " 'KB_JB838_1960-01-21_01-00014.txt',\n",
       " 'KB_JB838_1960-01-22_01-00015.txt',\n",
       " 'KB_JB838_1960-01-27_01-00006.txt',\n",
       " 'KB_JB838_1960-01-28_01-00011.txt',\n",
       " 'KB_JB838_1960-01-28_01-00021.txt',\n",
       " 'KB_JB838_1960-01-30_01-00007.txt',\n",
       " 'KB_JB838_1960-01-31_01-00024.txt']"
      ]
     },
     "execution_count": 6,
     "metadata": {},
     "output_type": "execute_result"
    }
   ],
   "source": [
    "# Exemple de fichiers\n",
    "files[:10]"
   ]
  },
  {
   "cell_type": "code",
   "execution_count": 7,
   "id": "34d2e120-ddd3-476f-af15-ecd4bbd3841c",
   "metadata": {},
   "outputs": [],
   "source": [
    "texts = [open(data_path + f, encoding=\"utf-8\").read() for f in files]\n"
   ]
  },
  {
   "cell_type": "code",
   "execution_count": 8,
   "id": "b74f45e7-ffcc-4da8-b1da-e85a3dd4bd7a",
   "metadata": {},
   "outputs": [
    {
     "data": {
      "text/plain": [
       "\"ia« le som ÏJsIne MéuhMrïiqii S.AT'BBirîï^^ J00, r. Merlu» Duché, Vllvorde ch. STENO-DACTYLO élément de let ordre, bilingue, bon- i ne rémunération. Situation d’avenir, i Candidat, A soumet par écrit 130221H PORTANTE 80C.BRUXELL0I8I cherche pour entrée Immédiate Secrétaire Sténo-Dactylo 3 françalee - 1 an d'expérience, al tuât h «table - semaine de 5 Jours. Ecrire é cur. vit et prêt Ag. Rossel 029\""
      ]
     },
     "execution_count": 8,
     "metadata": {},
     "output_type": "execute_result"
    }
   ],
   "source": [
    "# Exemple de textes\n",
    "texts[0][:400]"
   ]
  },
  {
   "cell_type": "markdown",
   "id": "a559d22f-5b62-4ba1-b0a9-0ce8e9bec973",
   "metadata": {},
   "source": [
    "## Vectoriser les documents à l'aide de TF-IDF"
   ]
  },
  {
   "cell_type": "code",
   "execution_count": 9,
   "id": "8eb2068b-59c6-4480-a90f-6952b5c43ec0",
   "metadata": {},
   "outputs": [],
   "source": [
    "# Création d'une fonction de pré-traitement\n",
    "def preprocessing(text, stem=True):\n",
    "    \"\"\" Tokenize text and remove punctuation \"\"\"\n",
    "    text = text.translate(string.punctuation)\n",
    "    tokens = word_tokenize(text)\n",
    "    return tokens"
   ]
  },
  {
   "cell_type": "markdown",
   "id": "3c88365d-c0ab-4b15-86bd-585459922bdd",
   "metadata": {},
   "source": [
    "### Instancier le modèle TF-IDF avec ses arguments"
   ]
  },
  {
   "cell_type": "code",
   "execution_count": 10,
   "id": "b3819cde-a9d5-4aab-a0f2-da8da6e36c7d",
   "metadata": {},
   "outputs": [],
   "source": [
    "vectorizer = TfidfVectorizer(\n",
    "    tokenizer=preprocessing,\n",
    "    stop_words=stopwords.words('french'),\n",
    "    max_df=0.5,\n",
    "    min_df=0.1,\n",
    "    lowercase=True)"
   ]
  },
  {
   "cell_type": "markdown",
   "id": "825c36ee-28ed-4341-87f7-a6bb3d50fb84",
   "metadata": {},
   "source": [
    "### Construire la matrice de vecteurs à l'aide de la fonction `fit_transform`"
   ]
  },
  {
   "cell_type": "code",
   "execution_count": 11,
   "id": "c6ab91a8-d945-4684-aea8-f18346c7fa41",
   "metadata": {},
   "outputs": [
    {
     "name": "stderr",
     "output_type": "stream",
     "text": [
      "c:\\Users\\Imen\\AppData\\Local\\Programs\\Python\\Python311\\Lib\\site-packages\\sklearn\\feature_extraction\\text.py:525: UserWarning: The parameter 'token_pattern' will not be used since 'tokenizer' is not None'\n",
      "  warnings.warn(\n"
     ]
    },
    {
     "name": "stdout",
     "output_type": "stream",
     "text": [
      "CPU times: total: 1min 36s\n",
      "Wall time: 1min 36s\n"
     ]
    }
   ],
   "source": [
    "%time tfidf_vectors = vectorizer.fit_transform(texts)"
   ]
  },
  {
   "cell_type": "code",
   "execution_count": 12,
   "id": "f0951de3-54eb-414a-96cd-a62f31a113ed",
   "metadata": {},
   "outputs": [
    {
     "data": {
      "text/plain": [
       "<1000x2998 sparse matrix of type '<class 'numpy.float64'>'\n",
       "\twith 591558 stored elements in Compressed Sparse Row format>"
      ]
     },
     "execution_count": 12,
     "metadata": {},
     "output_type": "execute_result"
    }
   ],
   "source": [
    "# Détail de la matrice\n",
    "tfidf_vectors"
   ]
  },
  {
   "cell_type": "code",
   "execution_count": 13,
   "id": "0b4cebc6",
   "metadata": {},
   "outputs": [],
   "source": [
    "locavectorizer = TfidfVectorizer(\n",
    "    tokenizer=preprocessing,\n",
    "    stop_words=stopwords.words('french'),\n",
    "    max_df=0.5,\n",
    "    min_df=0.1,\n",
    "    lowercase=True)"
   ]
  },
  {
   "cell_type": "markdown",
   "id": "ee13d551-60c1-44c0-be3c-4ad748495154",
   "metadata": {},
   "source": [
    "### Imprimer le vecteur tf-IDF du premier document"
   ]
  },
  {
   "cell_type": "code",
   "execution_count": 14,
   "id": "bf11aa21-2259-43a1-ac99-6c27d9884d11",
   "metadata": {},
   "outputs": [
    {
     "data": {
      "text/plain": [
       "rossel        0.429849\n",
       "ecrire        0.290763\n",
       "agence        0.287302\n",
       "bilingue      0.195620\n",
       "importante    0.172368\n",
       "                ...   \n",
       "envoyé        0.000000\n",
       "er            0.000000\n",
       "erreurs       0.000000\n",
       "esp           0.000000\n",
       "♦             0.000000\n",
       "Length: 2998, dtype: float64"
      ]
     },
     "execution_count": 14,
     "metadata": {},
     "output_type": "execute_result"
    }
   ],
   "source": [
    "pd.Series(\n",
    "    tfidf_vectors[0].toarray()[0],\n",
    "    index=vectorizer.get_feature_names_out()\n",
    "    ).sort_values(ascending=False)"
   ]
  },
  {
   "cell_type": "markdown",
   "id": "78021975-bb0f-400e-9cf2-ec517ed02c0d",
   "metadata": {},
   "source": [
    "## Comprendre les vecteurs et leurs \"distances\""
   ]
  },
  {
   "cell_type": "code",
   "execution_count": 15,
   "id": "6d5cc887-1b4f-453e-a77e-d96a970db44f",
   "metadata": {},
   "outputs": [
    {
     "data": {
      "text/plain": [
       "0"
      ]
     },
     "execution_count": 15,
     "metadata": {},
     "output_type": "execute_result"
    }
   ],
   "source": [
    "cosine([1, 2, 3], [1, 2, 3])"
   ]
  },
  {
   "cell_type": "code",
   "execution_count": 16,
   "id": "e7a910f2-97e6-4656-bf97-2eaba253a72e",
   "metadata": {},
   "outputs": [
    {
     "data": {
      "text/plain": [
       "0.02004211298777725"
      ]
     },
     "execution_count": 16,
     "metadata": {},
     "output_type": "execute_result"
    }
   ],
   "source": [
    "cosine([1, 2, 3], [1, 2, 2])"
   ]
  },
  {
   "cell_type": "code",
   "execution_count": 17,
   "id": "b59d523f-6d95-4ce3-9eed-8e10d8568f50",
   "metadata": {},
   "outputs": [
    {
     "data": {
      "text/plain": [
       "0.07417990022744858"
      ]
     },
     "execution_count": 17,
     "metadata": {},
     "output_type": "execute_result"
    }
   ],
   "source": [
    "cosine([1, 2, 3], [2, 2, 2])"
   ]
  },
  {
   "cell_type": "markdown",
   "id": "3d8b57df-86ad-4585-aa14-7e67314bb897",
   "metadata": {},
   "source": [
    "### Tests sur nos documents"
   ]
  },
  {
   "cell_type": "code",
   "execution_count": 18,
   "id": "6051dab3-7faf-4505-a273-f1d24c8101d7",
   "metadata": {},
   "outputs": [],
   "source": [
    "tfidf_array = tfidf_vectors.toarray()"
   ]
  },
  {
   "cell_type": "code",
   "execution_count": 19,
   "id": "60499237-d20a-431e-9e2d-b99fa50de375",
   "metadata": {},
   "outputs": [
    {
     "data": {
      "text/plain": [
       "array([0., 0., 0., ..., 0., 0., 0.])"
      ]
     },
     "execution_count": 19,
     "metadata": {},
     "output_type": "execute_result"
    }
   ],
   "source": [
    "# Vecteur du document 0\n",
    "tfidf_array[0]"
   ]
  },
  {
   "cell_type": "code",
   "execution_count": 20,
   "id": "50c0d7f4-32a9-4d0f-b9d9-c89737feaa7b",
   "metadata": {},
   "outputs": [
    {
     "data": {
      "text/plain": [
       "array([0.        , 0.        , 0.01044745, ..., 0.01088908, 0.01243897,\n",
       "       0.        ])"
      ]
     },
     "execution_count": 20,
     "metadata": {},
     "output_type": "execute_result"
    }
   ],
   "source": [
    "# Vecteur du document 1\n",
    "tfidf_array[1]"
   ]
  },
  {
   "cell_type": "code",
   "execution_count": 21,
   "id": "14f46085-58df-4eaa-a589-7bf467d1b471",
   "metadata": {},
   "outputs": [
    {
     "data": {
      "text/plain": [
       "0.9628761011759681"
      ]
     },
     "execution_count": 21,
     "metadata": {},
     "output_type": "execute_result"
    }
   ],
   "source": [
    "cosine(tfidf_array[0], tfidf_array[1])"
   ]
  },
  {
   "cell_type": "markdown",
   "id": "a8ccbbbe-53bb-4820-97de-fc85bd33add1",
   "metadata": {},
   "source": [
    "## Appliquer un algorithme de clustering sur les vecteurs TF-IDF des documents"
   ]
  },
  {
   "cell_type": "markdown",
   "id": "3a5c9015-faa9-4a6a-aa4d-7c25fe77a7ba",
   "metadata": {},
   "source": [
    "### Définir un nombre de clusters"
   ]
  },
  {
   "cell_type": "code",
   "execution_count": 22,
   "id": "5d10ad6c-78b2-470b-a847-0517ace6a391",
   "metadata": {},
   "outputs": [],
   "source": [
    "N_CLUSTERS = 5"
   ]
  },
  {
   "cell_type": "markdown",
   "id": "b43e38d7-0478-43d0-9ffd-fb8fdc3086ea",
   "metadata": {},
   "source": [
    "### Instancier le modèle K-Means et ses arguments"
   ]
  },
  {
   "cell_type": "code",
   "execution_count": 23,
   "id": "b7a3644f-1048-4232-a4b5-652af3a77fb1",
   "metadata": {},
   "outputs": [],
   "source": [
    "km_model = KMeans(n_clusters=N_CLUSTERS)"
   ]
  },
  {
   "cell_type": "markdown",
   "id": "dc4033b1-ee60-415e-a70c-9e1aa9ff1db4",
   "metadata": {},
   "source": [
    "### Appliquer le clustering à l'aide de la fonction `fit_predict`"
   ]
  },
  {
   "cell_type": "code",
   "execution_count": 24,
   "id": "fff71c00-3a08-4228-bb7f-178ad422cdfe",
   "metadata": {},
   "outputs": [
    {
     "name": "stderr",
     "output_type": "stream",
     "text": [
      "c:\\Users\\Imen\\AppData\\Local\\Programs\\Python\\Python311\\Lib\\site-packages\\sklearn\\cluster\\_kmeans.py:1416: FutureWarning: The default value of `n_init` will change from 10 to 'auto' in 1.4. Set the value of `n_init` explicitly to suppress the warning\n",
      "  super()._check_params_vs_input(X, default_n_init=10)\n"
     ]
    }
   ],
   "source": [
    "clusters = km_model.fit_predict(tfidf_vectors)"
   ]
  },
  {
   "cell_type": "code",
   "execution_count": 25,
   "id": "ed497ee9-4e05-481f-8f4d-0341cc656b5f",
   "metadata": {},
   "outputs": [],
   "source": [
    "clustering = collections.defaultdict(list)\n",
    "\n",
    "for idx, label in enumerate(clusters):\n",
    "    clustering[label].append(files[idx])"
   ]
  },
  {
   "cell_type": "code",
   "execution_count": 26,
   "id": "4b83884d-2e19-4818-b64e-06a7890109d7",
   "metadata": {},
   "outputs": [
    {
     "name": "stdout",
     "output_type": "stream",
     "text": [
      "{0: ['KB_JB838_1960-02-26_01-00011.txt',\n",
      "     'KB_JB838_1960-07-13_01-00006.txt',\n",
      "     'KB_JB838_1960-07-26_01-00004.txt',\n",
      "     'KB_JB838_1960-09-02_01-00013.txt',\n",
      "     'KB_JB838_1961-02-04_01-00004.txt',\n",
      "     'KB_JB838_1961-06-07_01-00006.txt',\n",
      "     'KB_JB838_1961-06-23_01-00011.txt',\n",
      "     'KB_JB838_1961-06-30_01-00013.txt',\n",
      "     'KB_JB838_1961-07-01_01-00011.txt',\n",
      "     'KB_JB838_1961-09-12_01-00012.txt',\n",
      "     'KB_JB838_1961-09-21_01-00011.txt',\n",
      "     'KB_JB838_1961-10-27_01-00004.txt',\n",
      "     'KB_JB838_1961-12-13_01-00010.txt',\n",
      "     'KB_JB838_1961-12-14_01-00011.txt',\n",
      "     'KB_JB838_1961-12-28_01-00004.txt',\n",
      "     'KB_JB838_1962-01-09_01-00012.txt',\n",
      "     'KB_JB838_1962-01-25_01-00011.txt',\n",
      "     'KB_JB838_1962-02-24_01-00010.txt',\n",
      "     'KB_JB838_1962-05-01_01-00010.txt',\n",
      "     'KB_JB838_1962-07-31_01-00009.txt',\n",
      "     'KB_JB838_1962-09-11_01-00010.txt',\n",
      "     'KB_JB838_1962-11-15_01-00004.txt',\n",
      "     'KB_JB838_1963-03-14_01-00015.txt',\n",
      "     'KB_JB838_1963-03-22_01-00014.txt',\n",
      "     'KB_JB838_1963-03-27_01-00014.txt',\n",
      "     'KB_JB838_1963-04-06_01-00015.txt',\n",
      "     'KB_JB838_1963-05-01_01-00015.txt',\n",
      "     'KB_JB838_1963-07-16_01-00010.txt',\n",
      "     'KB_JB838_1963-11-15_01-00013.txt',\n",
      "     'KB_JB838_1964-05-15_01-00014.txt',\n",
      "     'KB_JB838_1964-07-16_01-00014.txt',\n",
      "     'KB_JB838_1964-10-17_01-00016.txt',\n",
      "     'KB_JB838_1964-10-21_01-00016.txt',\n",
      "     'KB_JB838_1964-11-17_01-00013.txt',\n",
      "     'KB_JB838_1965-01-06_01-00014.txt',\n",
      "     'KB_JB838_1965-07-14_01-00015.txt',\n",
      "     'KB_JB838_1965-07-16_01-00011.txt',\n",
      "     'KB_JB838_1966-01-29_01-00016.txt',\n",
      "     'KB_JB838_1966-03-23_01-00014.txt',\n",
      "     'KB_JB838_1966-03-24_01-00015.txt',\n",
      "     'KB_JB838_1966-04-13_01-00015.txt',\n",
      "     'KB_JB838_1966-10-11_01-00014.txt',\n",
      "     'KB_JB838_1966-10-12_01-00015.txt',\n",
      "     'KB_JB838_1966-10-26_01-00016.txt',\n",
      "     'KB_JB838_1966-11-05_01-00016.txt',\n",
      "     'KB_JB838_1966-11-26_01-00016.txt',\n",
      "     'KB_JB838_1967-03-23_01-00017.txt',\n",
      "     'KB_JB838_1967-05-26_01-00013.txt',\n",
      "     'KB_JB838_1967-06-10_01-00016.txt',\n",
      "     'KB_JB838_1967-06-27_01-00013.txt',\n",
      "     'KB_JB838_1967-07-20_01-00015.txt',\n",
      "     'KB_JB838_1967-10-21_01-00015.txt',\n",
      "     'KB_JB838_1967-11-17_01-00013.txt',\n",
      "     'KB_JB838_1967-11-24_01-00014.txt',\n",
      "     'KB_JB838_1968-05-28_01-00014.txt',\n",
      "     'KB_JB838_1968-06-14_01-00014.txt',\n",
      "     'KB_JB838_1968-07-11_01-00015.txt',\n",
      "     'KB_JB838_1968-08-03_01-00015.txt',\n",
      "     'KB_JB838_1968-09-26_01-00014.txt',\n",
      "     'KB_JB838_1968-11-16_01-00018.txt',\n",
      "     'KB_JB838_1969-01-04_01-00014.txt',\n",
      "     'KB_JB838_1969-03-25_01-00017.txt',\n",
      "     'KB_JB838_1969-06-17_01-00015.txt',\n",
      "     'KB_JB838_1969-08-21_01-00014.txt',\n",
      "     'KB_JB838_1969-10-21_01-00018.txt',\n",
      "     'KB_JB838_1969-10-31_01-00018.txt'],\n",
      " 1: ['KB_JB838_1960-01-10_01-00018.txt',\n",
      "     'KB_JB838_1960-02-03_01-00019.txt',\n",
      "     'KB_JB838_1960-02-13_01-00020.txt',\n",
      "     'KB_JB838_1960-03-11_01-00020.txt',\n",
      "     'KB_JB838_1960-03-25_01-00020.txt',\n",
      "     'KB_JB838_1960-03-29_01-00018.txt',\n",
      "     'KB_JB838_1960-04-01_01-00020.txt',\n",
      "     'KB_JB838_1960-04-02_01-00017.txt',\n",
      "     'KB_JB838_1960-04-30_01-00016.txt',\n",
      "     'KB_JB838_1960-07-06_01-00020.txt',\n",
      "     'KB_JB838_1960-08-04_01-00018.txt',\n",
      "     'KB_JB838_1960-08-13_01-00016.txt',\n",
      "     'KB_JB838_1960-08-28_01-00019.txt',\n",
      "     'KB_JB838_1960-09-18_01-00020.txt',\n",
      "     'KB_JB838_1960-10-28_01-00020.txt',\n",
      "     'KB_JB838_1960-11-04_01-00019.txt',\n",
      "     'KB_JB838_1960-11-12_01-00017.txt',\n",
      "     'KB_JB838_1960-11-13_01-00019.txt',\n",
      "     'KB_JB838_1960-11-25_01-00020.txt',\n",
      "     'KB_JB838_1960-12-10_01-00019.txt',\n",
      "     'KB_JB838_1960-12-21_01-00017.txt',\n",
      "     'KB_JB838_1960-12-23_01-00019.txt',\n",
      "     'KB_JB838_1961-02-02_01-00019.txt',\n",
      "     'KB_JB838_1961-02-11_01-00017.txt',\n",
      "     'KB_JB838_1961-02-11_01-00018.txt',\n",
      "     'KB_JB838_1961-03-23_01-00020.txt',\n",
      "     'KB_JB838_1961-04-02_01-00018.txt',\n",
      "     'KB_JB838_1961-04-07_01-00016.txt',\n",
      "     'KB_JB838_1961-04-12_01-00019.txt',\n",
      "     'KB_JB838_1961-05-13_01-00018.txt',\n",
      "     'KB_JB838_1961-06-23_01-00019.txt',\n",
      "     'KB_JB838_1961-06-30_01-00019.txt',\n",
      "     'KB_JB838_1961-07-11_01-00018.txt',\n",
      "     'KB_JB838_1961-07-29_01-00017.txt',\n",
      "     'KB_JB838_1961-10-10_01-00016.txt',\n",
      "     'KB_JB838_1961-10-21_01-00018.txt',\n",
      "     'KB_JB838_1962-01-09_01-00015.txt',\n",
      "     'KB_JB838_1962-01-16_01-00018.txt',\n",
      "     'KB_JB838_1962-02-01_01-00018.txt',\n",
      "     'KB_JB838_1962-02-25_01-00024.txt',\n",
      "     'KB_JB838_1962-04-21_01-00022.txt',\n",
      "     'KB_JB838_1962-05-05_01-00023.txt',\n",
      "     'KB_JB838_1962-06-27_01-00021.txt',\n",
      "     'KB_JB838_1962-10-14_01-00023.txt',\n",
      "     'KB_JB838_1962-10-31_01-00019.txt',\n",
      "     'KB_JB838_1962-12-08_01-00020.txt',\n",
      "     'KB_JB838_1962-12-09_01-00025.txt',\n",
      "     'KB_JB838_1962-12-22_01-00024.txt',\n",
      "     'KB_JB838_1963-02-08_01-00016.txt',\n",
      "     'KB_JB838_1963-04-07_01-00024.txt',\n",
      "     'KB_JB838_1963-04-18_01-00020.txt',\n",
      "     'KB_JB838_1963-04-21_01-00027.txt',\n",
      "     'KB_JB838_1963-04-28_01-00029.txt',\n",
      "     'KB_JB838_1963-05-01_01-00020.txt',\n",
      "     'KB_JB838_1963-09-06_01-00021.txt',\n",
      "     'KB_JB838_1963-09-07_01-00020.txt',\n",
      "     'KB_JB838_1963-09-08_01-00026.txt',\n",
      "     'KB_JB838_1963-09-27_01-00018.txt',\n",
      "     'KB_JB838_1963-10-01_01-00022.txt',\n",
      "     'KB_JB838_1963-10-13_01-00028.txt',\n",
      "     'KB_JB838_1963-10-20_01-00023.txt',\n",
      "     'KB_JB838_1963-10-27_01-00028.txt',\n",
      "     'KB_JB838_1963-11-03_01-00023.txt',\n",
      "     'KB_JB838_1963-11-17_01-00027.txt',\n",
      "     'KB_JB838_1963-11-23_01-00024.txt',\n",
      "     'KB_JB838_1964-01-29_01-00017.txt',\n",
      "     'KB_JB838_1964-02-08_01-00022.txt',\n",
      "     'KB_JB838_1964-03-15_01-00022.txt',\n",
      "     'KB_JB838_1964-06-17_01-00018.txt',\n",
      "     'KB_JB838_1964-07-24_01-00016.txt',\n",
      "     'KB_JB838_1964-08-08_01-00017.txt',\n",
      "     'KB_JB838_1964-09-25_01-00023.txt',\n",
      "     'KB_JB838_1964-10-27_01-00018.txt',\n",
      "     'KB_JB838_1964-10-31_01-00021.txt',\n",
      "     'KB_JB838_1964-11-15_01-00023.txt',\n",
      "     'KB_JB838_1964-12-01_01-00022.txt',\n",
      "     'KB_JB838_1965-01-10_01-00020.txt',\n",
      "     'KB_JB838_1965-01-22_01-00017.txt',\n",
      "     'KB_JB838_1965-04-03_01-00024.txt',\n",
      "     'KB_JB838_1965-04-11_01-00026.txt',\n",
      "     'KB_JB838_1965-04-23_01-00023.txt',\n",
      "     'KB_JB838_1965-05-05_01-00022.txt',\n",
      "     'KB_JB838_1965-05-11_01-00023.txt',\n",
      "     'KB_JB838_1965-05-30_01-00026.txt',\n",
      "     'KB_JB838_1965-06-27_01-00025.txt',\n",
      "     'KB_JB838_1965-08-08_01-00020.txt',\n",
      "     'KB_JB838_1965-08-08_01-00025.txt',\n",
      "     'KB_JB838_1965-09-08_01-00019.txt',\n",
      "     'KB_JB838_1965-09-12_01-00030.txt',\n",
      "     'KB_JB838_1965-09-28_01-00017.txt',\n",
      "     'KB_JB838_1965-10-15_01-00021.txt',\n",
      "     'KB_JB838_1965-10-19_01-00019.txt',\n",
      "     'KB_JB838_1965-10-22_01-00016.txt',\n",
      "     'KB_JB838_1965-11-14_01-00027.txt',\n",
      "     'KB_JB838_1965-11-21_01-00023.txt',\n",
      "     'KB_JB838_1965-11-23_01-00021.txt',\n",
      "     'KB_JB838_1965-12-11_01-00022.txt',\n",
      "     'KB_JB838_1966-01-08_01-00019.txt',\n",
      "     'KB_JB838_1966-01-22_01-00023.txt',\n",
      "     'KB_JB838_1966-01-28_01-00018.txt',\n",
      "     'KB_JB838_1966-03-01_01-00020.txt',\n",
      "     'KB_JB838_1966-03-05_01-00024.txt',\n",
      "     'KB_JB838_1966-03-25_01-00026.txt',\n",
      "     'KB_JB838_1966-04-10_01-00027.txt',\n",
      "     'KB_JB838_1966-05-24_01-00023.txt',\n",
      "     'KB_JB838_1966-06-18_01-00028.txt',\n",
      "     'KB_JB838_1966-07-17_01-00022.txt',\n",
      "     'KB_JB838_1966-08-17_01-00017.txt',\n",
      "     'KB_JB838_1966-08-21_01-00023.txt',\n",
      "     'KB_JB838_1966-09-02_01-00021.txt',\n",
      "     'KB_JB838_1966-09-16_01-00023.txt',\n",
      "     'KB_JB838_1966-09-27_01-00021.txt',\n",
      "     'KB_JB838_1966-09-29_01-00026.txt',\n",
      "     'KB_JB838_1966-10-04_01-00018.txt',\n",
      "     'KB_JB838_1966-10-18_01-00024.txt',\n",
      "     'KB_JB838_1966-10-20_01-00024.txt',\n",
      "     'KB_JB838_1966-11-17_01-00022.txt',\n",
      "     'KB_JB838_1966-11-20_01-00023.txt',\n",
      "     'KB_JB838_1966-12-03_01-00024.txt',\n",
      "     'KB_JB838_1966-12-15_01-00027.txt',\n",
      "     'KB_JB838_1967-01-13_01-00017.txt',\n",
      "     'KB_JB838_1967-01-13_01-00018.txt',\n",
      "     'KB_JB838_1967-01-14_01-00027.txt',\n",
      "     'KB_JB838_1967-01-22_01-00028.txt',\n",
      "     'KB_JB838_1967-01-27_01-00019.txt',\n",
      "     'KB_JB838_1967-02-05_01-00028.txt',\n",
      "     'KB_JB838_1967-02-23_01-00022.txt',\n",
      "     'KB_JB838_1967-04-16_01-00027.txt',\n",
      "     'KB_JB838_1967-05-04_01-00025.txt',\n",
      "     'KB_JB838_1967-05-19_01-00022.txt',\n",
      "     'KB_JB838_1967-06-14_01-00021.txt',\n",
      "     'KB_JB838_1967-07-02_01-00023.txt',\n",
      "     'KB_JB838_1967-07-08_01-00021.txt',\n",
      "     'KB_JB838_1967-07-08_01-00022.txt',\n",
      "     'KB_JB838_1967-07-15_01-00024.txt',\n",
      "     'KB_JB838_1967-09-13_01-00022.txt',\n",
      "     'KB_JB838_1967-09-27_01-00023.txt',\n",
      "     'KB_JB838_1967-10-05_01-00026.txt',\n",
      "     'KB_JB838_1967-10-10_01-00022.txt',\n",
      "     'KB_JB838_1967-10-17_01-00022.txt',\n",
      "     'KB_JB838_1967-11-12_01-00033.txt',\n",
      "     'KB_JB838_1968-01-07_01-00025.txt',\n",
      "     'KB_JB838_1968-01-10_01-00018.txt',\n",
      "     'KB_JB838_1968-02-04_01-00023.txt',\n",
      "     'KB_JB838_1968-02-22_01-00023.txt',\n",
      "     'KB_JB838_1968-03-06_01-00019.txt',\n",
      "     'KB_JB838_1968-04-16_01-00027.txt',\n",
      "     'KB_JB838_1968-06-16_01-00029.txt',\n",
      "     'KB_JB838_1968-07-14_01-00027.txt',\n",
      "     'KB_JB838_1968-07-19_01-00017.txt',\n",
      "     'KB_JB838_1968-08-14_01-00017.txt',\n",
      "     'KB_JB838_1968-08-18_01-00024.txt',\n",
      "     'KB_JB838_1968-08-22_01-00021.txt',\n",
      "     'KB_JB838_1968-09-22_01-00029.txt',\n",
      "     'KB_JB838_1968-09-25_01-00024.txt',\n",
      "     'KB_JB838_1968-09-28_01-00031.txt',\n",
      "     'KB_JB838_1968-09-28_01-00032.txt',\n",
      "     'KB_JB838_1968-10-27_01-00036.txt',\n",
      "     'KB_JB838_1968-11-30_01-00029.txt',\n",
      "     'KB_JB838_1968-12-05_01-00026.txt',\n",
      "     'KB_JB838_1968-12-22_01-00033.txt',\n",
      "     'KB_JB838_1969-02-05_01-00021.txt',\n",
      "     'KB_JB838_1969-02-07_01-00019.txt',\n",
      "     'KB_JB838_1969-02-16_01-00031.txt',\n",
      "     'KB_JB838_1969-03-06_01-00021.txt',\n",
      "     'KB_JB838_1969-03-06_01-00022.txt',\n",
      "     'KB_JB838_1969-03-25_01-00025.txt',\n",
      "     'KB_JB838_1969-04-02_01-00021.txt',\n",
      "     'KB_JB838_1969-04-13_01-00035.txt',\n",
      "     'KB_JB838_1969-04-18_01-00025.txt',\n",
      "     'KB_JB838_1969-04-25_01-00026.txt',\n",
      "     'KB_JB838_1969-05-01_01-00032.txt',\n",
      "     'KB_JB838_1969-05-17_01-00029.txt',\n",
      "     'KB_JB838_1969-05-21_01-00026.txt',\n",
      "     'KB_JB838_1969-05-29_01-00029.txt',\n",
      "     'KB_JB838_1969-05-30_01-00025.txt',\n",
      "     'KB_JB838_1969-06-01_01-00026.txt',\n",
      "     'KB_JB838_1969-06-11_01-00023.txt',\n",
      "     'KB_JB838_1969-06-12_01-00029.txt',\n",
      "     'KB_JB838_1969-08-14_01-00024.txt',\n",
      "     'KB_JB838_1969-09-05_01-00024.txt',\n",
      "     'KB_JB838_1969-09-11_01-00027.txt',\n",
      "     'KB_JB838_1969-10-24_01-00026.txt',\n",
      "     'KB_JB838_1969-10-26_01-00038.txt',\n",
      "     'KB_JB838_1969-11-21_01-00024.txt',\n",
      "     'KB_JB838_1969-11-22_01-00033.txt',\n",
      "     'KB_JB838_1969-12-09_01-00022.txt',\n",
      "     'KB_JB838_1969-12-14_01-00028.txt',\n",
      "     'KB_JB838_1969-12-30_01-00018.txt'],\n",
      " 2: ['KB_JB838_1960-01-21_01-00014.txt',\n",
      "     'KB_JB838_1960-01-22_01-00015.txt',\n",
      "     'KB_JB838_1960-02-24_01-00020.txt',\n",
      "     'KB_JB838_1960-03-11_01-00022.txt',\n",
      "     'KB_JB838_1960-04-01_01-00022.txt',\n",
      "     'KB_JB838_1960-04-05_01-00016.txt',\n",
      "     'KB_JB838_1960-04-06_01-00023.txt',\n",
      "     'KB_JB838_1960-04-13_01-00017.txt',\n",
      "     'KB_JB838_1960-04-14_01-00016.txt',\n",
      "     'KB_JB838_1960-04-20_01-00016.txt',\n",
      "     'KB_JB838_1960-05-28_01-00021.txt',\n",
      "     'KB_JB838_1960-07-14_01-00015.txt',\n",
      "     'KB_JB838_1960-08-25_01-00021.txt',\n",
      "     'KB_JB838_1960-10-28_01-00014.txt',\n",
      "     'KB_JB838_1960-11-15_01-00016.txt',\n",
      "     'KB_JB838_1960-11-16_01-00022.txt',\n",
      "     'KB_JB838_1960-11-18_01-00017.txt',\n",
      "     'KB_JB838_1961-01-05_01-00016.txt',\n",
      "     'KB_JB838_1961-01-18_01-00023.txt',\n",
      "     'KB_JB838_1961-02-11_01-00023.txt',\n",
      "     'KB_JB838_1961-02-16_01-00015.txt',\n",
      "     'KB_JB838_1961-03-02_01-00016.txt',\n",
      "     'KB_JB838_1961-03-25_01-00012.txt',\n",
      "     'KB_JB838_1961-04-14_01-00015.txt',\n",
      "     'KB_JB838_1961-04-15_01-00016.txt',\n",
      "     'KB_JB838_1961-04-15_01-00020.txt',\n",
      "     'KB_JB838_1961-04-20_01-00022.txt',\n",
      "     'KB_JB838_1961-04-29_01-00022.txt',\n",
      "     'KB_JB838_1961-05-03_01-00024.txt',\n",
      "     'KB_JB838_1961-05-25_01-00023.txt',\n",
      "     'KB_JB838_1961-06-04_01-00017.txt',\n",
      "     'KB_JB838_1961-07-18_01-00019.txt',\n",
      "     'KB_JB838_1961-08-02_01-00017.txt',\n",
      "     'KB_JB838_1961-08-06_01-00014.txt',\n",
      "     'KB_JB838_1961-08-06_01-00016.txt',\n",
      "     'KB_JB838_1961-09-08_01-00015.txt',\n",
      "     'KB_JB838_1961-09-22_01-00023.txt',\n",
      "     'KB_JB838_1961-10-29_01-00026.txt',\n",
      "     'KB_JB838_1961-11-04_01-00013.txt',\n",
      "     'KB_JB838_1961-11-09_01-00016.txt',\n",
      "     'KB_JB838_1961-11-14_01-00020.txt',\n",
      "     'KB_JB838_1961-11-15_01-00024.txt',\n",
      "     'KB_JB838_1961-11-19_01-00022.txt',\n",
      "     'KB_JB838_1961-11-24_01-00018.txt',\n",
      "     'KB_JB838_1961-11-29_01-00023.txt',\n",
      "     'KB_JB838_1961-12-30_01-00015.txt',\n",
      "     'KB_JB838_1962-01-21_01-00027.txt',\n",
      "     'KB_JB838_1962-03-16_01-00016.txt',\n",
      "     'KB_JB838_1962-03-22_01-00023.txt',\n",
      "     'KB_JB838_1962-03-27_01-00013.txt',\n",
      "     'KB_JB838_1962-04-04_01-00021.txt',\n",
      "     'KB_JB838_1962-04-05_01-00025.txt',\n",
      "     'KB_JB838_1962-04-10_01-00021.txt',\n",
      "     'KB_JB838_1962-04-15_01-00021.txt',\n",
      "     'KB_JB838_1962-04-22_01-00017.txt',\n",
      "     'KB_JB838_1962-05-09_01-00017.txt',\n",
      "     'KB_JB838_1962-05-20_01-00019.txt',\n",
      "     'KB_JB838_1962-05-22_01-00011.txt',\n",
      "     'KB_JB838_1962-06-24_01-00021.txt',\n",
      "     'KB_JB838_1962-06-24_01-00031.txt',\n",
      "     'KB_JB838_1962-06-30_01-00018.txt',\n",
      "     'KB_JB838_1962-07-28_01-00015.txt',\n",
      "     'KB_JB838_1962-08-25_01-00021.txt',\n",
      "     'KB_JB838_1962-09-06_01-00023.txt',\n",
      "     'KB_JB838_1962-09-13_01-00016.txt',\n",
      "     'KB_JB838_1962-09-28_01-00016.txt',\n",
      "     'KB_JB838_1962-10-17_01-00015.txt',\n",
      "     'KB_JB838_1962-11-03_01-00025.txt',\n",
      "     'KB_JB838_1962-11-10_01-00020.txt',\n",
      "     'KB_JB838_1962-12-09_01-00018.txt',\n",
      "     'KB_JB838_1962-12-23_01-00027.txt',\n",
      "     'KB_JB838_1963-01-22_01-00015.txt',\n",
      "     'KB_JB838_1963-01-24_01-00013.txt',\n",
      "     'KB_JB838_1963-01-24_01-00019.txt',\n",
      "     'KB_JB838_1963-02-06_01-00021.txt',\n",
      "     'KB_JB838_1963-03-13_01-00015.txt',\n",
      "     'KB_JB838_1963-04-05_01-00019.txt',\n",
      "     'KB_JB838_1963-05-02_01-00018.txt',\n",
      "     'KB_JB838_1963-05-18_01-00020.txt',\n",
      "     'KB_JB838_1963-05-28_01-00021.txt',\n",
      "     'KB_JB838_1963-06-09_01-00020.txt',\n",
      "     'KB_JB838_1963-06-09_01-00029.txt',\n",
      "     'KB_JB838_1963-07-14_01-00017.txt',\n",
      "     'KB_JB838_1963-07-18_01-00015.txt',\n",
      "     'KB_JB838_1963-09-04_01-00020.txt',\n",
      "     'KB_JB838_1963-09-07_01-00015.txt',\n",
      "     'KB_JB838_1963-10-16_01-00024.txt',\n",
      "     'KB_JB838_1963-11-07_01-00026.txt',\n",
      "     'KB_JB838_1963-12-04_01-00016.txt',\n",
      "     'KB_JB838_1963-12-13_01-00016.txt',\n",
      "     'KB_JB838_1963-12-27_01-00016.txt',\n",
      "     'KB_JB838_1964-01-04_01-00025.txt',\n",
      "     'KB_JB838_1964-01-18_01-00018.txt',\n",
      "     'KB_JB838_1964-01-29_01-00015.txt',\n",
      "     'KB_JB838_1964-05-14_01-00015.txt',\n",
      "     'KB_JB838_1964-05-28_01-00027.txt',\n",
      "     'KB_JB838_1964-06-04_01-00015.txt',\n",
      "     'KB_JB838_1964-06-16_01-00013.txt',\n",
      "     'KB_JB838_1964-06-17_01-00023.txt',\n",
      "     'KB_JB838_1964-06-24_01-00022.txt',\n",
      "     'KB_JB838_1964-06-26_01-00023.txt',\n",
      "     'KB_JB838_1964-06-27_01-00019.txt',\n",
      "     'KB_JB838_1964-09-08_01-00014.txt',\n",
      "     'KB_JB838_1964-09-09_01-00016.txt',\n",
      "     'KB_JB838_1964-09-16_01-00024.txt',\n",
      "     'KB_JB838_1964-10-03_01-00031.txt',\n",
      "     'KB_JB838_1964-10-10_01-00019.txt',\n",
      "     'KB_JB838_1964-10-10_01-00020.txt',\n",
      "     'KB_JB838_1964-10-17_01-00030.txt',\n",
      "     'KB_JB838_1964-10-30_01-00020.txt',\n",
      "     'KB_JB838_1964-11-06_01-00017.txt',\n",
      "     'KB_JB838_1964-11-27_01-00025.txt',\n",
      "     'KB_JB838_1965-02-19_01-00014.txt',\n",
      "     'KB_JB838_1965-05-11_01-00016.txt',\n",
      "     'KB_JB838_1965-05-11_01-00025.txt',\n",
      "     'KB_JB838_1965-05-26_01-00017.txt',\n",
      "     'KB_JB838_1965-06-02_01-00019.txt',\n",
      "     'KB_JB838_1965-06-05_01-00029.txt',\n",
      "     'KB_JB838_1965-06-11_01-00015.txt',\n",
      "     'KB_JB838_1965-06-19_01-00027.txt',\n",
      "     'KB_JB838_1965-07-09_01-00015.txt',\n",
      "     'KB_JB838_1965-07-11_01-00029.txt',\n",
      "     'KB_JB838_1965-08-15_01-00016.txt',\n",
      "     'KB_JB838_1965-09-02_01-00018.txt',\n",
      "     'KB_JB838_1965-11-24_01-00016.txt',\n",
      "     'KB_JB838_1965-12-04_01-00020.txt',\n",
      "     'KB_JB838_1965-12-10_01-00023.txt',\n",
      "     'KB_JB838_1966-01-25_01-00013.txt',\n",
      "     'KB_JB838_1966-02-12_01-00019.txt',\n",
      "     'KB_JB838_1966-03-25_01-00021.txt',\n",
      "     'KB_JB838_1966-04-14_01-00016.txt',\n",
      "     'KB_JB838_1966-04-16_01-00017.txt',\n",
      "     'KB_JB838_1966-04-21_01-00030.txt',\n",
      "     'KB_JB838_1966-05-21_01-00028.txt',\n",
      "     'KB_JB838_1966-06-08_01-00026.txt',\n",
      "     'KB_JB838_1966-06-22_01-00025.txt',\n",
      "     'KB_JB838_1966-06-25_01-00021.txt',\n",
      "     'KB_JB838_1966-07-12_01-00017.txt',\n",
      "     'KB_JB838_1966-07-29_01-00019.txt',\n",
      "     'KB_JB838_1966-09-07_01-00021.txt',\n",
      "     'KB_JB838_1966-09-17_01-00019.txt',\n",
      "     'KB_JB838_1966-10-09_01-00030.txt',\n",
      "     'KB_JB838_1966-10-25_01-00013.txt',\n",
      "     'KB_JB838_1966-11-01_01-00014.txt',\n",
      "     'KB_JB838_1966-11-19_01-00017.txt',\n",
      "     'KB_JB838_1966-12-20_01-00023.txt',\n",
      "     'KB_JB838_1966-12-31_01-00016.txt',\n",
      "     'KB_JB838_1967-03-09_01-00018.txt',\n",
      "     'KB_JB838_1967-03-14_01-00017.txt',\n",
      "     'KB_JB838_1967-04-01_01-00020.txt',\n",
      "     'KB_JB838_1967-05-18_01-00017.txt',\n",
      "     'KB_JB838_1967-05-23_01-00018.txt',\n",
      "     'KB_JB838_1967-07-19_01-00020.txt',\n",
      "     'KB_JB838_1967-07-29_01-00018.txt',\n",
      "     'KB_JB838_1967-08-23_01-00017.txt',\n",
      "     'KB_JB838_1967-08-31_01-00016.txt',\n",
      "     'KB_JB838_1967-09-16_01-00020.txt',\n",
      "     'KB_JB838_1967-09-27_01-00018.txt',\n",
      "     'KB_JB838_1967-10-11_01-00025.txt',\n",
      "     'KB_JB838_1967-12-10_01-00035.txt',\n",
      "     'KB_JB838_1968-01-13_01-00021.txt',\n",
      "     'KB_JB838_1968-01-25_01-00026.txt',\n",
      "     'KB_JB838_1968-02-08_01-00025.txt',\n",
      "     'KB_JB838_1968-02-15_01-00027.txt',\n",
      "     'KB_JB838_1968-02-29_01-00022.txt',\n",
      "     'KB_JB838_1968-03-03_01-00022.txt',\n",
      "     'KB_JB838_1968-03-15_01-00019.txt',\n",
      "     'KB_JB838_1968-03-17_01-00022.txt',\n",
      "     'KB_JB838_1968-05-17_01-00023.txt',\n",
      "     'KB_JB838_1968-06-06_01-00016.txt',\n",
      "     'KB_JB838_1968-06-06_01-00020.txt',\n",
      "     'KB_JB838_1968-06-12_01-00019.txt',\n",
      "     'KB_JB838_1968-08-22_01-00020.txt',\n",
      "     'KB_JB838_1968-09-15_01-00022.txt',\n",
      "     'KB_JB838_1968-10-11_01-00018.txt',\n",
      "     'KB_JB838_1968-10-19_01-00025.txt',\n",
      "     'KB_JB838_1968-10-19_01-00026.txt',\n",
      "     'KB_JB838_1968-10-29_01-00024.txt',\n",
      "     'KB_JB838_1968-11-28_01-00018.txt',\n",
      "     'KB_JB838_1968-12-01_01-00022.txt',\n",
      "     'KB_JB838_1968-12-04_01-00018.txt',\n",
      "     'KB_JB838_1969-01-15_01-00017.txt',\n",
      "     'KB_JB838_1969-03-01_01-00023.txt',\n",
      "     'KB_JB838_1969-03-22_01-00018.txt',\n",
      "     'KB_JB838_1969-04-01_01-00018.txt',\n",
      "     'KB_JB838_1969-04-09_01-00026.txt',\n",
      "     'KB_JB838_1969-04-11_01-00019.txt',\n",
      "     'KB_JB838_1969-04-13_01-00023.txt',\n",
      "     'KB_JB838_1969-04-22_01-00021.txt',\n",
      "     'KB_JB838_1969-04-30_01-00018.txt',\n",
      "     'KB_JB838_1969-05-31_01-00020.txt',\n",
      "     'KB_JB838_1969-07-12_01-00020.txt',\n",
      "     'KB_JB838_1969-08-09_01-00016.txt',\n",
      "     'KB_JB838_1969-08-10_01-00017.txt',\n",
      "     'KB_JB838_1969-10-15_01-00019.txt',\n",
      "     'KB_JB838_1969-10-15_01-00020.txt',\n",
      "     'KB_JB838_1969-10-17_01-00020.txt',\n",
      "     'KB_JB838_1969-10-24_01-00029.txt',\n",
      "     'KB_JB838_1969-11-04_01-00019.txt'],\n",
      " 3: ['KB_JB838_1960-01-12_01-00011.txt',\n",
      "     'KB_JB838_1960-01-13_01-00009.txt',\n",
      "     'KB_JB838_1960-02-19_01-00011.txt',\n",
      "     'KB_JB838_1960-03-04_01-00010.txt',\n",
      "     'KB_JB838_1960-03-12_01-00007.txt',\n",
      "     'KB_JB838_1960-03-13_01-00009.txt',\n",
      "     'KB_JB838_1960-03-18_01-00009.txt',\n",
      "     'KB_JB838_1960-05-27_01-00007.txt',\n",
      "     'KB_JB838_1960-05-28_01-00008.txt',\n",
      "     'KB_JB838_1960-06-23_01-00010.txt',\n",
      "     'KB_JB838_1960-07-13_01-00012.txt',\n",
      "     'KB_JB838_1960-08-27_01-00011.txt',\n",
      "     'KB_JB838_1960-10-30_01-00007.txt',\n",
      "     'KB_JB838_1960-11-01_01-00013.txt',\n",
      "     'KB_JB838_1960-12-06_01-00011.txt',\n",
      "     'KB_JB838_1961-02-12_01-00012.txt',\n",
      "     'KB_JB838_1961-02-21_01-00013.txt',\n",
      "     'KB_JB838_1961-03-07_01-00006.txt',\n",
      "     'KB_JB838_1961-03-31_01-00010.txt',\n",
      "     'KB_JB838_1961-04-30_01-00007.txt',\n",
      "     'KB_JB838_1961-08-27_01-00008.txt',\n",
      "     'KB_JB838_1961-10-08_01-00011.txt',\n",
      "     'KB_JB838_1961-10-29_01-00012.txt',\n",
      "     'KB_JB838_1962-01-25_01-00009.txt',\n",
      "     'KB_JB838_1962-02-20_01-00011.txt',\n",
      "     'KB_JB838_1962-03-04_01-00011.txt',\n",
      "     'KB_JB838_1962-03-27_01-00008.txt',\n",
      "     'KB_JB838_1962-05-19_01-00011.txt',\n",
      "     'KB_JB838_1962-06-24_01-00010.txt',\n",
      "     'KB_JB838_1962-06-27_01-00010.txt',\n",
      "     'KB_JB838_1962-07-08_01-00012.txt',\n",
      "     'KB_JB838_1962-07-23_01-00010.txt',\n",
      "     'KB_JB838_1962-08-08_01-00010.txt',\n",
      "     'KB_JB838_1962-08-26_01-00011.txt',\n",
      "     'KB_JB838_1962-09-11_01-00009.txt',\n",
      "     'KB_JB838_1962-09-26_01-00009.txt',\n",
      "     'KB_JB838_1962-10-14_01-00011.txt',\n",
      "     'KB_JB838_1962-10-26_01-00011.txt',\n",
      "     'KB_JB838_1962-12-11_01-00010.txt',\n",
      "     'KB_JB838_1962-12-18_01-00009.txt',\n",
      "     'KB_JB838_1962-12-27_01-00009.txt',\n",
      "     'KB_JB838_1963-05-05_01-00011.txt',\n",
      "     'KB_JB838_1963-05-18_01-00011.txt',\n",
      "     'KB_JB838_1963-06-11_01-00010.txt',\n",
      "     'KB_JB838_1963-07-28_01-00010.txt',\n",
      "     'KB_JB838_1963-08-14_01-00008.txt',\n",
      "     'KB_JB838_1963-08-29_01-00011.txt',\n",
      "     'KB_JB838_1963-09-08_01-00011.txt',\n",
      "     'KB_JB838_1963-10-01_01-00009.txt',\n",
      "     'KB_JB838_1963-11-20_01-00011.txt',\n",
      "     'KB_JB838_1963-12-15_01-00011.txt',\n",
      "     'KB_JB838_1964-02-13_01-00012.txt',\n",
      "     'KB_JB838_1964-02-29_01-00011.txt',\n",
      "     'KB_JB838_1964-03-08_01-00013.txt',\n",
      "     'KB_JB838_1964-03-22_01-00012.txt',\n",
      "     'KB_JB838_1964-04-05_01-00014.txt',\n",
      "     'KB_JB838_1964-05-12_01-00010.txt',\n",
      "     'KB_JB838_1964-09-29_01-00010.txt',\n",
      "     'KB_JB838_1964-11-06_01-00010.txt',\n",
      "     'KB_JB838_1964-11-22_01-00012.txt',\n",
      "     'KB_JB838_1964-11-27_01-00013.txt',\n",
      "     'KB_JB838_1964-12-05_01-00009.txt',\n",
      "     'KB_JB838_1965-01-31_01-00014.txt',\n",
      "     'KB_JB838_1965-02-09_01-00009.txt',\n",
      "     'KB_JB838_1965-05-22_01-00012.txt',\n",
      "     'KB_JB838_1965-06-02_01-00012.txt',\n",
      "     'KB_JB838_1965-06-13_01-00012.txt',\n",
      "     'KB_JB838_1965-09-19_01-00011.txt',\n",
      "     'KB_JB838_1965-10-15_01-00010.txt',\n",
      "     'KB_JB838_1965-10-17_01-00013.txt',\n",
      "     'KB_JB838_1965-10-19_01-00009.txt',\n",
      "     'KB_JB838_1965-12-23_01-00011.txt',\n",
      "     'KB_JB838_1965-12-28_01-00010.txt',\n",
      "     'KB_JB838_1966-05-29_01-00013.txt',\n",
      "     'KB_JB838_1966-06-16_01-00010.txt',\n",
      "     'KB_JB838_1966-07-24_01-00009.txt',\n",
      "     'KB_JB838_1966-07-26_01-00013.txt',\n",
      "     'KB_JB838_1966-09-16_01-00011.txt',\n",
      "     'KB_JB838_1966-11-19_01-00010.txt',\n",
      "     'KB_JB838_1966-12-08_01-00012.txt',\n",
      "     'KB_JB838_1966-12-25_01-00013.txt',\n",
      "     'KB_JB838_1967-03-15_01-00011.txt',\n",
      "     'KB_JB838_1967-04-26_01-00012.txt',\n",
      "     'KB_JB838_1967-04-30_01-00010.txt',\n",
      "     'KB_JB838_1967-05-14_01-00013.txt',\n",
      "     'KB_JB838_1967-07-13_01-00012.txt',\n",
      "     'KB_JB838_1967-07-23_01-00011.txt',\n",
      "     'KB_JB838_1967-09-27_01-00012.txt',\n",
      "     'KB_JB838_1967-11-03_01-00011.txt',\n",
      "     'KB_JB838_1968-02-06_01-00011.txt',\n",
      "     'KB_JB838_1968-02-11_01-00013.txt',\n",
      "     'KB_JB838_1968-02-14_01-00012.txt',\n",
      "     'KB_JB838_1968-02-29_01-00011.txt',\n",
      "     'KB_JB838_1968-03-30_01-00012.txt',\n",
      "     'KB_JB838_1968-06-30_01-00017.txt',\n",
      "     'KB_JB838_1968-07-30_01-00012.txt',\n",
      "     'KB_JB838_1968-08-04_01-00012.txt',\n",
      "     'KB_JB838_1968-09-13_01-00010.txt',\n",
      "     'KB_JB838_1968-12-06_01-00011.txt',\n",
      "     'KB_JB838_1969-01-05_01-00012.txt',\n",
      "     'KB_JB838_1969-01-11_01-00010.txt',\n",
      "     'KB_JB838_1969-02-22_01-00011.txt',\n",
      "     'KB_JB838_1969-03-18_01-00014.txt',\n",
      "     'KB_JB838_1969-04-08_01-00014.txt',\n",
      "     'KB_JB838_1969-04-13_01-00013.txt',\n",
      "     'KB_JB838_1969-04-27_01-00011.txt',\n",
      "     'KB_JB838_1969-04-29_01-00016.txt',\n",
      "     'KB_JB838_1969-06-26_01-00012.txt',\n",
      "     'KB_JB838_1969-09-11_01-00010.txt',\n",
      "     'KB_JB838_1969-10-19_01-00011.txt',\n",
      "     'KB_JB838_1969-10-26_01-00011.txt'],\n",
      " 4: ['KB_JB838_1960-01-27_01-00006.txt',\n",
      "     'KB_JB838_1960-01-28_01-00011.txt',\n",
      "     'KB_JB838_1960-01-28_01-00021.txt',\n",
      "     'KB_JB838_1960-01-30_01-00007.txt',\n",
      "     'KB_JB838_1960-01-31_01-00024.txt',\n",
      "     'KB_JB838_1960-02-20_01-00006.txt',\n",
      "     'KB_JB838_1960-02-26_01-00001.txt',\n",
      "     'KB_JB838_1960-03-06_01-00004.txt',\n",
      "     'KB_JB838_1960-03-08_01-00008.txt',\n",
      "     'KB_JB838_1960-03-09_01-00001.txt',\n",
      "     'KB_JB838_1960-03-16_01-00007.txt',\n",
      "     'KB_JB838_1960-03-20_01-00014.txt',\n",
      "     'KB_JB838_1960-04-05_01-00004.txt',\n",
      "     'KB_JB838_1960-04-06_01-00008.txt',\n",
      "     'KB_JB838_1960-04-13_01-00002.txt',\n",
      "     'KB_JB838_1960-04-16_01-00002.txt',\n",
      "     'KB_JB838_1960-04-23_01-00005.txt',\n",
      "     'KB_JB838_1960-05-03_01-00013.txt',\n",
      "     'KB_JB838_1960-05-19_01-00004.txt',\n",
      "     'KB_JB838_1960-05-29_01-00005.txt',\n",
      "     'KB_JB838_1960-06-01_01-00011.txt',\n",
      "     'KB_JB838_1960-07-05_01-00004.txt',\n",
      "     'KB_JB838_1960-07-10_01-00001.txt',\n",
      "     'KB_JB838_1960-07-30_01-00006.txt',\n",
      "     'KB_JB838_1960-08-04_01-00001.txt',\n",
      "     'KB_JB838_1960-08-05_01-00007.txt',\n",
      "     'KB_JB838_1960-08-05_01-00014.txt',\n",
      "     'KB_JB838_1960-08-06_01-00005.txt',\n",
      "     'KB_JB838_1960-08-17_01-00009.txt',\n",
      "     'KB_JB838_1960-08-23_01-00002.txt',\n",
      "     'KB_JB838_1960-09-07_01-00008.txt',\n",
      "     'KB_JB838_1960-09-27_01-00009.txt',\n",
      "     'KB_JB838_1960-10-18_01-00004.txt',\n",
      "     'KB_JB838_1960-10-21_01-00024.txt',\n",
      "     'KB_JB838_1960-10-22_01-00003.txt',\n",
      "     'KB_JB838_1960-10-26_01-00001.txt',\n",
      "     'KB_JB838_1960-10-28_01-00002.txt',\n",
      "     'KB_JB838_1960-11-05_01-00004.txt',\n",
      "     'KB_JB838_1960-11-11_01-00002.txt',\n",
      "     'KB_JB838_1960-11-24_01-00001.txt',\n",
      "     'KB_JB838_1960-12-02_01-00004.txt',\n",
      "     'KB_JB838_1960-12-04_01-00014.txt',\n",
      "     'KB_JB838_1961-01-14_01-00013.txt',\n",
      "     'KB_JB838_1961-01-19_01-00006.txt',\n",
      "     'KB_JB838_1961-01-22_01-00006.txt',\n",
      "     'KB_JB838_1961-01-27_01-00006.txt',\n",
      "     'KB_JB838_1961-02-17_01-00012.txt',\n",
      "     'KB_JB838_1961-02-25_01-00004.txt',\n",
      "     'KB_JB838_1961-03-01_01-00011.txt',\n",
      "     'KB_JB838_1961-03-08_01-00012.txt',\n",
      "     'KB_JB838_1961-04-02_01-00013.txt',\n",
      "     'KB_JB838_1961-04-04_01-00010.txt',\n",
      "     'KB_JB838_1961-04-14_01-00003.txt',\n",
      "     'KB_JB838_1961-04-22_01-00006.txt',\n",
      "     'KB_JB838_1961-05-04_01-00006.txt',\n",
      "     'KB_JB838_1961-05-09_01-00002.txt',\n",
      "     'KB_JB838_1961-06-14_01-00012.txt',\n",
      "     'KB_JB838_1961-06-16_01-00024.txt',\n",
      "     'KB_JB838_1961-06-23_01-00005.txt',\n",
      "     'KB_JB838_1961-06-25_01-00001.txt',\n",
      "     'KB_JB838_1961-07-15_01-00006.txt',\n",
      "     'KB_JB838_1961-07-16_01-00004.txt',\n",
      "     'KB_JB838_1961-08-05_01-00002.txt',\n",
      "     'KB_JB838_1961-09-08_01-00024.txt',\n",
      "     'KB_JB838_1961-09-10_01-00001.txt',\n",
      "     'KB_JB838_1961-09-13_01-00011.txt',\n",
      "     'KB_JB838_1961-09-14_01-00006.txt',\n",
      "     'KB_JB838_1961-09-19_01-00009.txt',\n",
      "     'KB_JB838_1961-11-07_01-00005.txt',\n",
      "     'KB_JB838_1961-11-17_01-00024.txt',\n",
      "     'KB_JB838_1961-11-23_01-00014.txt',\n",
      "     'KB_JB838_1961-12-02_01-00003.txt',\n",
      "     'KB_JB838_1961-12-02_01-00007.txt',\n",
      "     'KB_JB838_1961-12-03_01-00001.txt',\n",
      "     'KB_JB838_1961-12-05_01-00001.txt',\n",
      "     'KB_JB838_1961-12-09_01-00024.txt',\n",
      "     'KB_JB838_1961-12-15_01-00024.txt',\n",
      "     'KB_JB838_1961-12-17_01-00006.txt',\n",
      "     'KB_JB838_1961-12-24_01-00012.txt',\n",
      "     'KB_JB838_1961-12-26_01-00003.txt',\n",
      "     'KB_JB838_1962-01-21_01-00030.txt',\n",
      "     'KB_JB838_1962-02-24_01-00001.txt',\n",
      "     'KB_JB838_1962-02-25_01-00015.txt',\n",
      "     'KB_JB838_1962-03-06_01-00009.txt',\n",
      "     'KB_JB838_1962-03-09_01-00008.txt',\n",
      "     'KB_JB838_1962-04-06_01-00003.txt',\n",
      "     'KB_JB838_1962-04-06_01-00009.txt',\n",
      "     'KB_JB838_1962-04-12_01-00002.txt',\n",
      "     'KB_JB838_1962-04-17_01-00010.txt',\n",
      "     'KB_JB838_1962-04-18_01-00001.txt',\n",
      "     'KB_JB838_1962-04-21_01-00010.txt',\n",
      "     'KB_JB838_1962-04-27_01-00032.txt',\n",
      "     'KB_JB838_1962-04-28_01-00005.txt',\n",
      "     'KB_JB838_1962-05-01_01-00018.txt',\n",
      "     'KB_JB838_1962-05-09_01-00006.txt',\n",
      "     'KB_JB838_1962-05-12_01-00002.txt',\n",
      "     'KB_JB838_1962-05-22_01-00007.txt',\n",
      "     'KB_JB838_1962-06-08_01-00024.txt',\n",
      "     'KB_JB838_1962-06-09_01-00011.txt',\n",
      "     'KB_JB838_1962-06-26_01-00003.txt',\n",
      "     'KB_JB838_1962-06-27_01-00001.txt',\n",
      "     'KB_JB838_1962-07-27_01-00012.txt',\n",
      "     'KB_JB838_1962-08-05_01-00007.txt',\n",
      "     'KB_JB838_1962-08-11_01-00003.txt',\n",
      "     'KB_JB838_1962-08-16_01-00003.txt',\n",
      "     'KB_JB838_1962-08-19_01-00006.txt',\n",
      "     'KB_JB838_1962-08-25_01-00002.txt',\n",
      "     'KB_JB838_1962-08-29_01-00002.txt',\n",
      "     'KB_JB838_1962-09-05_01-00006.txt',\n",
      "     'KB_JB838_1962-09-21_01-00013.txt',\n",
      "     'KB_JB838_1962-09-23_01-00008.txt',\n",
      "     'KB_JB838_1962-10-19_01-00007.txt',\n",
      "     'KB_JB838_1962-11-04_01-00003.txt',\n",
      "     'KB_JB838_1962-11-22_01-00007.txt',\n",
      "     'KB_JB838_1962-11-23_01-00009.txt',\n",
      "     'KB_JB838_1962-11-30_01-00009.txt',\n",
      "     'KB_JB838_1962-12-09_01-00015.txt',\n",
      "     'KB_JB838_1962-12-13_01-00006.txt',\n",
      "     'KB_JB838_1963-01-13_01-00016.txt',\n",
      "     'KB_JB838_1963-01-17_01-00001.txt',\n",
      "     'KB_JB838_1963-01-31_01-00002.txt',\n",
      "     'KB_JB838_1963-02-06_01-00010.txt',\n",
      "     'KB_JB838_1963-02-08_01-00007.txt',\n",
      "     'KB_JB838_1963-02-12_01-00006.txt',\n",
      "     'KB_JB838_1963-02-14_01-00006.txt',\n",
      "     'KB_JB838_1963-02-17_01-00016.txt',\n",
      "     'KB_JB838_1963-02-20_01-00010.txt',\n",
      "     'KB_JB838_1963-02-27_01-00001.txt',\n",
      "     'KB_JB838_1963-03-16_01-00005.txt',\n",
      "     'KB_JB838_1963-03-20_01-00012.txt',\n",
      "     'KB_JB838_1963-03-21_01-00005.txt',\n",
      "     'KB_JB838_1963-03-21_01-00008.txt',\n",
      "     'KB_JB838_1963-03-29_01-00007.txt',\n",
      "     'KB_JB838_1963-04-05_01-00003.txt',\n",
      "     'KB_JB838_1963-04-13_01-00007.txt',\n",
      "     'KB_JB838_1963-04-20_01-00006.txt',\n",
      "     'KB_JB838_1963-04-20_01-00007.txt',\n",
      "     'KB_JB838_1963-04-21_01-00006.txt',\n",
      "     'KB_JB838_1963-04-26_01-00004.txt',\n",
      "     'KB_JB838_1963-04-28_01-00001.txt',\n",
      "     'KB_JB838_1963-05-02_01-00009.txt',\n",
      "     'KB_JB838_1963-05-03_01-00006.txt',\n",
      "     'KB_JB838_1963-05-04_01-00003.txt',\n",
      "     'KB_JB838_1963-06-16_01-00001.txt',\n",
      "     'KB_JB838_1963-06-18_01-00007.txt',\n",
      "     'KB_JB838_1963-06-29_01-00030.txt',\n",
      "     'KB_JB838_1963-07-10_01-00008.txt',\n",
      "     'KB_JB838_1963-07-11_01-00006.txt',\n",
      "     'KB_JB838_1963-07-12_01-00022.txt',\n",
      "     'KB_JB838_1963-07-31_01-00008.txt',\n",
      "     'KB_JB838_1963-08-15_01-00001.txt',\n",
      "     'KB_JB838_1963-08-21_01-00003.txt',\n",
      "     'KB_JB838_1963-08-24_01-00024.txt',\n",
      "     'KB_JB838_1963-09-22_01-00006.txt',\n",
      "     'KB_JB838_1963-10-04_01-00014.txt',\n",
      "     'KB_JB838_1963-10-26_01-00003.txt',\n",
      "     'KB_JB838_1963-11-05_01-00004.txt',\n",
      "     'KB_JB838_1963-11-13_01-00001.txt',\n",
      "     'KB_JB838_1963-11-26_01-00001.txt',\n",
      "     'KB_JB838_1963-11-28_01-00001.txt',\n",
      "     'KB_JB838_1963-12-06_01-00007.txt',\n",
      "     'KB_JB838_1963-12-06_01-00014.txt',\n",
      "     'KB_JB838_1963-12-07_01-00012.txt',\n",
      "     'KB_JB838_1963-12-28_01-00004.txt',\n",
      "     'KB_JB838_1964-01-18_01-00008.txt',\n",
      "     'KB_JB838_1964-02-09_01-00002.txt',\n",
      "     'KB_JB838_1964-02-14_01-00008.txt',\n",
      "     'KB_JB838_1964-02-20_01-00003.txt',\n",
      "     'KB_JB838_1964-02-28_01-00008.txt',\n",
      "     'KB_JB838_1964-02-29_01-00005.txt',\n",
      "     'KB_JB838_1964-03-03_01-00003.txt',\n",
      "     'KB_JB838_1964-03-05_01-00003.txt',\n",
      "     'KB_JB838_1964-03-08_01-00003.txt',\n",
      "     'KB_JB838_1964-03-13_01-00008.txt',\n",
      "     'KB_JB838_1964-03-13_01-00012.txt',\n",
      "     'KB_JB838_1964-03-26_01-00005.txt',\n",
      "     'KB_JB838_1964-03-27_01-00015.txt',\n",
      "     'KB_JB838_1964-03-28_01-00001.txt',\n",
      "     'KB_JB838_1964-04-03_01-00016.txt',\n",
      "     'KB_JB838_1964-04-21_01-00006.txt',\n",
      "     'KB_JB838_1964-04-30_01-00002.txt',\n",
      "     'KB_JB838_1964-05-03_01-00003.txt',\n",
      "     'KB_JB838_1964-05-05_01-00008.txt',\n",
      "     'KB_JB838_1964-05-08_01-00004.txt',\n",
      "     'KB_JB838_1964-05-17_01-00005.txt',\n",
      "     'KB_JB838_1964-05-26_01-00008.txt',\n",
      "     'KB_JB838_1964-06-02_01-00001.txt',\n",
      "     'KB_JB838_1964-06-03_01-00003.txt',\n",
      "     'KB_JB838_1964-06-06_01-00004.txt',\n",
      "     'KB_JB838_1964-06-12_01-00007.txt',\n",
      "     'KB_JB838_1964-06-13_01-00004.txt',\n",
      "     'KB_JB838_1964-06-16_01-00003.txt',\n",
      "     'KB_JB838_1964-06-21_01-00004.txt',\n",
      "     'KB_JB838_1964-07-04_01-00009.txt',\n",
      "     'KB_JB838_1964-07-08_01-00001.txt',\n",
      "     'KB_JB838_1964-07-25_01-00003.txt',\n",
      "     'KB_JB838_1964-08-01_01-00006.txt',\n",
      "     'KB_JB838_1964-08-11_01-00002.txt',\n",
      "     'KB_JB838_1964-08-29_01-00004.txt',\n",
      "     'KB_JB838_1964-08-30_01-00015.txt',\n",
      "     'KB_JB838_1964-08-30_01-00030.txt',\n",
      "     'KB_JB838_1964-09-13_01-00002.txt',\n",
      "     'KB_JB838_1964-10-10_01-00005.txt',\n",
      "     'KB_JB838_1964-10-16_01-00005.txt',\n",
      "     'KB_JB838_1964-10-23_01-00006.txt',\n",
      "     'KB_JB838_1964-10-24_01-00008.txt',\n",
      "     'KB_JB838_1964-11-05_01-00005.txt',\n",
      "     'KB_JB838_1964-11-07_01-00006.txt',\n",
      "     'KB_JB838_1964-11-14_01-00002.txt',\n",
      "     'KB_JB838_1964-11-15_01-00003.txt',\n",
      "     'KB_JB838_1964-11-28_01-00009.txt',\n",
      "     'KB_JB838_1964-11-29_01-00007.txt',\n",
      "     'KB_JB838_1964-12-01_01-00004.txt',\n",
      "     'KB_JB838_1964-12-03_01-00004.txt',\n",
      "     'KB_JB838_1964-12-05_01-00011.txt',\n",
      "     'KB_JB838_1964-12-24_01-00015.txt',\n",
      "     'KB_JB838_1965-01-15_01-00009.txt',\n",
      "     'KB_JB838_1965-02-07_01-00003.txt',\n",
      "     'KB_JB838_1965-02-11_01-00005.txt',\n",
      "     'KB_JB838_1965-02-11_01-00009.txt',\n",
      "     'KB_JB838_1965-02-20_01-00002.txt',\n",
      "     'KB_JB838_1965-03-05_01-00002.txt',\n",
      "     'KB_JB838_1965-03-05_01-00004.txt',\n",
      "     'KB_JB838_1965-04-02_01-00014.txt',\n",
      "     'KB_JB838_1965-04-03_01-00003.txt',\n",
      "     'KB_JB838_1965-04-03_01-00006.txt',\n",
      "     'KB_JB838_1965-04-07_01-00031.txt',\n",
      "     'KB_JB838_1965-04-09_01-00023.txt',\n",
      "     'KB_JB838_1965-04-11_01-00008.txt',\n",
      "     'KB_JB838_1965-05-08_01-00032.txt',\n",
      "     'KB_JB838_1965-05-12_01-00005.txt',\n",
      "     'KB_JB838_1965-05-13_01-00001.txt',\n",
      "     'KB_JB838_1965-05-18_01-00004.txt',\n",
      "     'KB_JB838_1965-05-26_01-00010.txt',\n",
      "     'KB_JB838_1965-05-27_01-00008.txt',\n",
      "     'KB_JB838_1965-06-03_01-00003.txt',\n",
      "     'KB_JB838_1965-06-06_01-00008.txt',\n",
      "     'KB_JB838_1965-06-29_01-00001.txt',\n",
      "     'KB_JB838_1965-06-29_01-00002.txt',\n",
      "     'KB_JB838_1965-06-29_01-00008.txt',\n",
      "     'KB_JB838_1965-07-01_01-00013.txt',\n",
      "     'KB_JB838_1965-07-04_01-00007.txt',\n",
      "     'KB_JB838_1965-07-14_01-00002.txt',\n",
      "     'KB_JB838_1965-07-24_01-00006.txt',\n",
      "     'KB_JB838_1965-08-11_01-00007.txt',\n",
      "     'KB_JB838_1965-08-15_01-00005.txt',\n",
      "     'KB_JB838_1965-08-28_01-00004.txt',\n",
      "     'KB_JB838_1965-09-15_01-00005.txt',\n",
      "     'KB_JB838_1965-10-02_01-00006.txt',\n",
      "     'KB_JB838_1965-10-03_01-00001.txt',\n",
      "     'KB_JB838_1965-10-16_01-00002.txt',\n",
      "     'KB_JB838_1965-10-19_01-00005.txt',\n",
      "     'KB_JB838_1965-10-20_01-00013.txt',\n",
      "     'KB_JB838_1965-10-22_01-00022.txt',\n",
      "     'KB_JB838_1965-10-23_01-00001.txt',\n",
      "     'KB_JB838_1965-10-27_01-00002.txt',\n",
      "     'KB_JB838_1965-10-28_01-00009.txt',\n",
      "     'KB_JB838_1965-11-06_01-00006.txt',\n",
      "     'KB_JB838_1965-11-06_01-00009.txt',\n",
      "     'KB_JB838_1965-11-18_01-00006.txt',\n",
      "     'KB_JB838_1965-11-23_01-00024.txt',\n",
      "     'KB_JB838_1965-11-28_01-00017.txt',\n",
      "     'KB_JB838_1965-12-11_01-00017.txt',\n",
      "     'KB_JB838_1965-12-18_01-00001.txt',\n",
      "     'KB_JB838_1965-12-30_01-00009.txt',\n",
      "     'KB_JB838_1965-12-31_01-00005.txt',\n",
      "     'KB_JB838_1966-01-06_01-00009.txt',\n",
      "     'KB_JB838_1966-01-11_01-00006.txt',\n",
      "     'KB_JB838_1966-01-22_01-00010.txt',\n",
      "     'KB_JB838_1966-01-29_01-00013.txt',\n",
      "     'KB_JB838_1966-02-10_01-00001.txt',\n",
      "     'KB_JB838_1966-02-13_01-00001.txt',\n",
      "     'KB_JB838_1966-02-16_01-00006.txt',\n",
      "     'KB_JB838_1966-02-26_01-00002.txt',\n",
      "     'KB_JB838_1966-02-27_01-00002.txt',\n",
      "     'KB_JB838_1966-03-16_01-00007.txt',\n",
      "     'KB_JB838_1966-03-26_01-00007.txt',\n",
      "     'KB_JB838_1966-03-26_01-00011.txt',\n",
      "     'KB_JB838_1966-04-02_01-00005.txt',\n",
      "     'KB_JB838_1966-04-09_01-00012.txt',\n",
      "     'KB_JB838_1966-04-16_01-00014.txt',\n",
      "     'KB_JB838_1966-05-18_01-00008.txt',\n",
      "     'KB_JB838_1966-05-21_01-00004.txt',\n",
      "     'KB_JB838_1966-06-08_01-00007.txt',\n",
      "     'KB_JB838_1966-06-17_01-00002.txt',\n",
      "     'KB_JB838_1966-07-10_01-00004.txt',\n",
      "     'KB_JB838_1966-07-15_01-00004.txt',\n",
      "     'KB_JB838_1966-07-23_01-00005.txt',\n",
      "     'KB_JB838_1966-08-07_01-00005.txt',\n",
      "     'KB_JB838_1966-08-30_01-00011.txt',\n",
      "     'KB_JB838_1966-09-09_01-00004.txt',\n",
      "     'KB_JB838_1966-09-15_01-00008.txt',\n",
      "     'KB_JB838_1966-09-16_01-00006.txt',\n",
      "     'KB_JB838_1966-09-17_01-00005.txt',\n",
      "     'KB_JB838_1966-09-22_01-00006.txt',\n",
      "     'KB_JB838_1966-09-29_01-00013.txt',\n",
      "     'KB_JB838_1966-10-07_01-00015.txt',\n",
      "     'KB_JB838_1966-10-15_01-00004.txt',\n",
      "     'KB_JB838_1966-10-26_01-00007.txt',\n",
      "     'KB_JB838_1966-10-26_01-00014.txt',\n",
      "     'KB_JB838_1966-11-11_01-00013.txt',\n",
      "     'KB_JB838_1966-11-17_01-00008.txt',\n",
      "     'KB_JB838_1966-11-26_01-00032.txt',\n",
      "     'KB_JB838_1966-12-09_01-00012.txt',\n",
      "     'KB_JB838_1966-12-22_01-00001.txt',\n",
      "     'KB_JB838_1966-12-22_01-00007.txt',\n",
      "     'KB_JB838_1967-01-12_01-00005.txt',\n",
      "     'KB_JB838_1967-01-12_01-00009.txt',\n",
      "     'KB_JB838_1967-01-14_01-00030.txt',\n",
      "     'KB_JB838_1967-01-17_01-00005.txt',\n",
      "     'KB_JB838_1967-01-25_01-00008.txt',\n",
      "     'KB_JB838_1967-02-04_01-00007.txt',\n",
      "     'KB_JB838_1967-02-07_01-00008.txt',\n",
      "     'KB_JB838_1967-02-09_01-00009.txt',\n",
      "     'KB_JB838_1967-02-25_01-00005.txt',\n",
      "     'KB_JB838_1967-03-01_01-00007.txt',\n",
      "     'KB_JB838_1967-03-09_01-00008.txt',\n",
      "     'KB_JB838_1967-03-25_01-00005.txt',\n",
      "     'KB_JB838_1967-04-11_01-00004.txt',\n",
      "     'KB_JB838_1967-04-12_01-00008.txt',\n",
      "     'KB_JB838_1967-04-16_01-00006.txt',\n",
      "     'KB_JB838_1967-04-18_01-00007.txt',\n",
      "     'KB_JB838_1967-04-22_01-00013.txt',\n",
      "     'KB_JB838_1967-04-23_01-00015.txt',\n",
      "     'KB_JB838_1967-04-29_01-00005.txt',\n",
      "     'KB_JB838_1967-05-03_01-00004.txt',\n",
      "     'KB_JB838_1967-05-09_01-00009.txt',\n",
      "     'KB_JB838_1967-05-11_01-00032.txt',\n",
      "     'KB_JB838_1967-06-13_01-00008.txt',\n",
      "     'KB_JB838_1967-06-21_01-00008.txt',\n",
      "     'KB_JB838_1967-07-04_01-00006.txt',\n",
      "     'KB_JB838_1967-07-25_01-00002.txt',\n",
      "     'KB_JB838_1967-08-02_01-00005.txt',\n",
      "     'KB_JB838_1967-08-12_01-00004.txt',\n",
      "     'KB_JB838_1967-08-17_01-00012.txt',\n",
      "     'KB_JB838_1967-08-20_01-00028.txt',\n",
      "     'KB_JB838_1967-08-22_01-00018.txt',\n",
      "     'KB_JB838_1967-08-27_01-00001.txt',\n",
      "     'KB_JB838_1967-09-02_01-00001.txt',\n",
      "     'KB_JB838_1967-09-09_01-00002.txt',\n",
      "     'KB_JB838_1967-09-14_01-00003.txt',\n",
      "     'KB_JB838_1967-09-14_01-00006.txt',\n",
      "     'KB_JB838_1967-09-16_01-00005.txt',\n",
      "     'KB_JB838_1967-09-26_01-00007.txt',\n",
      "     'KB_JB838_1967-09-27_01-00013.txt',\n",
      "     'KB_JB838_1967-10-05_01-00013.txt',\n",
      "     'KB_JB838_1967-10-07_01-00008.txt',\n",
      "     'KB_JB838_1967-10-19_01-00007.txt',\n",
      "     'KB_JB838_1967-10-19_01-00018.txt',\n",
      "     'KB_JB838_1967-10-28_01-00007.txt',\n",
      "     'KB_JB838_1967-11-11_01-00006.txt',\n",
      "     'KB_JB838_1967-11-11_01-00007.txt',\n",
      "     'KB_JB838_1967-12-10_01-00015.txt',\n",
      "     'KB_JB838_1967-12-13_01-00006.txt',\n",
      "     'KB_JB838_1967-12-20_01-00008.txt',\n",
      "     'KB_JB838_1967-12-26_01-00009.txt',\n",
      "     'KB_JB838_1968-01-07_01-00007.txt',\n",
      "     'KB_JB838_1968-01-09_01-00020.txt',\n",
      "     'KB_JB838_1968-01-21_01-00002.txt',\n",
      "     'KB_JB838_1968-02-03_01-00012.txt',\n",
      "     'KB_JB838_1968-02-08_01-00008.txt',\n",
      "     'KB_JB838_1968-02-10_01-00006.txt',\n",
      "     'KB_JB838_1968-02-10_01-00011.txt',\n",
      "     'KB_JB838_1968-02-13_01-00002.txt',\n",
      "     'KB_JB838_1968-03-05_01-00009.txt',\n",
      "     'KB_JB838_1968-03-14_01-00010.txt',\n",
      "     'KB_JB838_1968-03-20_01-00004.txt',\n",
      "     'KB_JB838_1968-03-28_01-00004.txt',\n",
      "     'KB_JB838_1968-05-14_01-00004.txt',\n",
      "     'KB_JB838_1968-05-15_01-00005.txt',\n",
      "     'KB_JB838_1968-05-17_01-00013.txt',\n",
      "     'KB_JB838_1968-05-18_01-00011.txt',\n",
      "     'KB_JB838_1968-05-25_01-00012.txt',\n",
      "     'KB_JB838_1968-06-14_01-00006.txt',\n",
      "     'KB_JB838_1968-06-15_01-00005.txt',\n",
      "     'KB_JB838_1968-06-25_01-00003.txt',\n",
      "     'KB_JB838_1968-07-10_01-00022.txt',\n",
      "     'KB_JB838_1968-08-11_01-00006.txt',\n",
      "     'KB_JB838_1968-08-20_01-00010.txt',\n",
      "     'KB_JB838_1968-08-25_01-00002.txt',\n",
      "     'KB_JB838_1968-09-05_01-00005.txt',\n",
      "     'KB_JB838_1968-09-27_01-00007.txt',\n",
      "     'KB_JB838_1968-10-01_01-00006.txt',\n",
      "     'KB_JB838_1968-10-11_01-00002.txt',\n",
      "     'KB_JB838_1968-10-18_01-00010.txt',\n",
      "     'KB_JB838_1968-10-19_01-00018.txt',\n",
      "     'KB_JB838_1968-10-22_01-00004.txt',\n",
      "     'KB_JB838_1968-10-25_01-00005.txt',\n",
      "     'KB_JB838_1968-10-27_01-00018.txt',\n",
      "     'KB_JB838_1968-10-30_01-00005.txt',\n",
      "     'KB_JB838_1968-11-09_01-00004.txt',\n",
      "     'KB_JB838_1968-11-12_01-00002.txt',\n",
      "     'KB_JB838_1968-11-20_01-00001.txt',\n",
      "     'KB_JB838_1968-11-23_01-00014.txt',\n",
      "     'KB_JB838_1968-12-07_01-00018.txt',\n",
      "     'KB_JB838_1968-12-14_01-00027.txt',\n",
      "     'KB_JB838_1968-12-15_01-00007.txt',\n",
      "     'KB_JB838_1968-12-17_01-00002.txt',\n",
      "     'KB_JB838_1968-12-25_01-00010.txt',\n",
      "     'KB_JB838_1969-01-22_01-00015.txt',\n",
      "     'KB_JB838_1969-02-09_01-00007.txt',\n",
      "     'KB_JB838_1969-02-27_01-00032.txt',\n",
      "     'KB_JB838_1969-03-02_01-00005.txt',\n",
      "     'KB_JB838_1969-03-02_01-00018.txt',\n",
      "     'KB_JB838_1969-03-11_01-00003.txt',\n",
      "     'KB_JB838_1969-03-19_01-00003.txt',\n",
      "     'KB_JB838_1969-03-28_01-00005.txt',\n",
      "     'KB_JB838_1969-04-01_01-00007.txt',\n",
      "     'KB_JB838_1969-04-02_01-00014.txt',\n",
      "     'KB_JB838_1969-04-03_01-00034.txt',\n",
      "     'KB_JB838_1969-04-10_01-00006.txt',\n",
      "     'KB_JB838_1969-04-10_01-00009.txt',\n",
      "     'KB_JB838_1969-04-12_01-00007.txt',\n",
      "     'KB_JB838_1969-04-29_01-00007.txt',\n",
      "     'KB_JB838_1969-05-22_01-00017.txt',\n",
      "     'KB_JB838_1969-05-29_01-00013.txt',\n",
      "     'KB_JB838_1969-06-19_01-00007.txt',\n",
      "     'KB_JB838_1969-06-22_01-00031.txt',\n",
      "     'KB_JB838_1969-06-26_01-00014.txt',\n",
      "     'KB_JB838_1969-07-20_01-00005.txt',\n",
      "     'KB_JB838_1969-08-02_01-00007.txt',\n",
      "     'KB_JB838_1969-09-11_01-00007.txt',\n",
      "     'KB_JB838_1969-09-26_01-00010.txt',\n",
      "     'KB_JB838_1969-10-01_01-00028.txt',\n",
      "     'KB_JB838_1969-10-02_01-00009.txt',\n",
      "     'KB_JB838_1969-10-28_01-00008.txt',\n",
      "     'KB_JB838_1969-10-29_01-00001.txt',\n",
      "     'KB_JB838_1969-10-30_01-00013.txt',\n",
      "     'KB_JB838_1969-11-04_01-00014.txt',\n",
      "     'KB_JB838_1969-11-06_01-00013.txt',\n",
      "     'KB_JB838_1969-11-21_01-00010.txt',\n",
      "     'KB_JB838_1969-11-29_01-00012.txt',\n",
      "     'KB_JB838_1969-12-07_01-00008.txt',\n",
      "     'KB_JB838_1969-12-17_01-00002.txt',\n",
      "     'KB_JB838_1969-12-20_01-00003.txt']}\n"
     ]
    }
   ],
   "source": [
    "pprint(dict(clustering))"
   ]
  },
  {
   "cell_type": "markdown",
   "id": "61b96db4-6c91-45c1-875f-afe835758fd0",
   "metadata": {},
   "source": [
    "## Visualiser les clusters"
   ]
  },
  {
   "cell_type": "markdown",
   "id": "c3b80216-e7b6-4ef3-89fe-ec1ccbba839f",
   "metadata": {},
   "source": [
    "### Réduire les vecteurs à 2 dimensions à l'aide de l'algorithme PCA"
   ]
  },
  {
   "cell_type": "code",
   "execution_count": 27,
   "id": "3baaf3cf-a6a1-4b30-aea8-f7563630167b",
   "metadata": {},
   "outputs": [],
   "source": [
    "pca = PCA(n_components=2)\n",
    "reduced_vectors = pca.fit_transform(tfidf_vectors.toarray())"
   ]
  },
  {
   "cell_type": "code",
   "execution_count": 28,
   "id": "a3bcf8d4-8087-4da4-b328-3464ba1fe400",
   "metadata": {},
   "outputs": [
    {
     "data": {
      "text/plain": [
       "array([[ 0.4992516 , -0.43941765],\n",
       "       [-0.22887339,  0.00137479],\n",
       "       [-0.27929014, -0.0157116 ],\n",
       "       [ 0.28623276,  0.51679184],\n",
       "       [ 0.3069986 ,  0.51868347],\n",
       "       [-0.28969465, -0.09047513],\n",
       "       [-0.04744472,  0.04053199],\n",
       "       [-0.06063923,  0.11980078],\n",
       "       [-0.22347723, -0.05224694],\n",
       "       [-0.12166065,  0.07459245]])"
      ]
     },
     "execution_count": 28,
     "metadata": {},
     "output_type": "execute_result"
    }
   ],
   "source": [
    "reduced_vectors[:10]"
   ]
  },
  {
   "cell_type": "markdown",
   "id": "6c678ea4-4c4e-4d1f-a43b-81b6af8fdd89",
   "metadata": {},
   "source": [
    "### Générer le plot"
   ]
  },
  {
   "cell_type": "code",
   "execution_count": 29,
   "id": "f1aa25b3-fe71-42bf-8ba7-4ec204151cbb",
   "metadata": {},
   "outputs": [
    {
     "data": {
      "text/plain": [
       "<matplotlib.legend.Legend at 0x1e814f85990>"
      ]
     },
     "execution_count": 29,
     "metadata": {},
     "output_type": "execute_result"
    },
    {
     "data": {
      "image/png": "[encoded data removed]",
      "text/plain": [
       "<Figure size 1000x1000 with 1 Axes>"
      ]
     },
     "metadata": {},
     "output_type": "display_data"
    }
   ],
   "source": [
    "x_axis = reduced_vectors[:, 0]\n",
    "y_axis = reduced_vectors[:, 1]\n",
    "\n",
    "plt.figure(figsize=(10,10))\n",
    "scatter = plt.scatter(x_axis, y_axis, s=100, c=clusters)\n",
    "\n",
    "# Ajouter les centroïdes\n",
    "centroids = pca.transform(km_model.cluster_centers_)\n",
    "plt.scatter(centroids[:, 0], centroids[:, 1],  marker = \"x\", s=100, linewidths = 2, color='black')\n",
    "\n",
    "# Ajouter la légende\n",
    "plt.legend(handles=scatter.legend_elements()[0], labels=set(clusters), title=\"Clusters\")"
   ]
  },
  {
   "cell_type": "markdown",
   "metadata": {},
   "source": [
    "Le clustering ci-dessus regroupe les données en clusters les plus homogènes possibles ainsi que la technique k-means utilisé aide à regrouper itérativement les données autour de centres k (x). On peut dire que les résultats obtenus font sens car les trois couleurs sont assez séparés."
   ]
  },
  {
   "cell_type": "markdown",
   "id": "275cd2c6-3705-4fd4-b375-86e02cbcabb1",
   "metadata": {},
   "source": [
    "# Word Embeddings : le modèle Word2Vec"
   ]
  },
  {
   "cell_type": "markdown",
   "id": "14ddf169-5d27-4b0c-8e46-3dc9dce090fd",
   "metadata": {},
   "source": [
    "### Imports"
   ]
  },
  {
   "cell_type": "code",
   "execution_count": 30,
   "id": "42891842-5d12-4c37-952a-91e3d755f185",
   "metadata": {},
   "outputs": [],
   "source": [
    "import sys\n",
    "\n",
    "from gensim.models.phrases import Phrases, Phraser\n",
    "from gensim.models import Word2Vec\n",
    "\n",
    "import nltk\n",
    "from nltk.tokenize import wordpunct_tokenize\n",
    "from unidecode import unidecode"
   ]
  },
  {
   "cell_type": "markdown",
   "id": "d66cef00-338c-47eb-8d17-e4f5f8c45cee",
   "metadata": {},
   "source": [
    "### Chargement et traitement des phrases du corpus"
   ]
  },
  {
   "cell_type": "markdown",
   "id": "5bb708a4-7ccb-4a30-b18e-f9d3259b6c71",
   "metadata": {},
   "source": [
    "### Création d'un objet qui *streame* les lignes d'un fichier pour économiser de la RAM"
   ]
  },
  {
   "cell_type": "code",
   "execution_count": 31,
   "id": "9e0509ff-1018-4b13-b213-2752577727d3",
   "metadata": {},
   "outputs": [],
   "source": [
    "class MySentences(object):\n",
    "    \"\"\"Tokenize and Lemmatize sentences\"\"\"\n",
    "    def __init__(self, filename):\n",
    "        self.filename = filename\n",
    "\n",
    "    def __iter__(self):\n",
    "        for line in open(self.filename, encoding='utf-8', errors=\"backslashreplace\"):\n",
    "            yield [unidecode(w.lower()) for w in wordpunct_tokenize(line)]"
   ]
  },
  {
   "cell_type": "code",
   "execution_count": 32,
   "id": "824dbda6-faa3-4046-9c08-cfd932dcaa0a",
   "metadata": {},
   "outputs": [],
   "source": [
    "infile = f\"../data/sents.txt\"\n",
    "sentences = MySentences(infile)\n",
    "\n",
    "sentences = [sentence for sentence in sentences]"
   ]
  },
  {
   "cell_type": "markdown",
   "id": "aad2952c-213a-4c7f-8ea9-4f7a129c6f28",
   "metadata": {},
   "source": [
    "### Détection des bigrams"
   ]
  },
  {
   "cell_type": "code",
   "execution_count": 33,
   "id": "7930ae3b-12da-485c-929f-45282a887688",
   "metadata": {},
   "outputs": [],
   "source": [
    "bigram_phrases = Phrases(sentences)"
   ]
  },
  {
   "cell_type": "code",
   "execution_count": 34,
   "id": "e17ecb64",
   "metadata": {},
   "outputs": [
    {
     "data": {
      "text/plain": [
       "dict"
      ]
     },
     "execution_count": 34,
     "metadata": {},
     "output_type": "execute_result"
    }
   ],
   "source": [
    "type(bigram_phrases.vocab)"
   ]
  },
  {
   "cell_type": "code",
   "execution_count": 35,
   "id": "a1102740-1bb7-4e79-b010-9a4c3468742a",
   "metadata": {},
   "outputs": [
    {
     "data": {
      "text/plain": [
       "15850647"
      ]
     },
     "execution_count": 35,
     "metadata": {},
     "output_type": "execute_result"
    }
   ],
   "source": [
    "#Visualisation du nombre de termes clé observés dans le corpus\n",
    "len(bigram_phrases.vocab.keys())"
   ]
  },
  {
   "cell_type": "code",
   "execution_count": 36,
   "id": "3ff2bff2-2a60-49aa-893b-871fc685f2fe",
   "metadata": {},
   "outputs": [
    {
     "name": "stdout",
     "output_type": "stream",
     "text": [
      "1q\n"
     ]
    }
   ],
   "source": [
    "# Prenons une clé au hasard\n",
    "key_ = list(bigram_phrases.vocab.keys())[144]\n",
    "print(key_)"
   ]
  },
  {
   "cell_type": "code",
   "execution_count": 37,
   "id": "a44c0591-a21a-4e63-9bcc-0a0f0ff4191d",
   "metadata": {},
   "outputs": [
    {
     "data": {
      "text/plain": [
       "488"
      ]
     },
     "execution_count": 37,
     "metadata": {},
     "output_type": "execute_result"
    }
   ],
   "source": [
    "#Le dictionnaire indique le score de cette coocurrence :\n",
    "bigram_phrases.vocab[key_]"
   ]
  },
  {
   "cell_type": "code",
   "execution_count": 38,
   "id": "b2b557c5",
   "metadata": {},
   "outputs": [
    {
     "name": "stdout",
     "output_type": "stream",
     "text": [
      "CPU times: total: 0 ns\n",
      "Wall time: 0 ns\n"
     ]
    },
    {
     "data": {
      "text/plain": [
       "['du',\n",
       " '-',\n",
       " '#',\n",
       " 'val',\n",
       " ',',\n",
       " 'receveur',\n",
       " 'des',\n",
       " 'contributions_directes',\n",
       " 'et',\n",
       " 'des',\n",
       " 'accises',\n",
       " 'a',\n",
       " 'deynze',\n",
       " '.',\n",
       " 'est',\n",
       " 'admis',\n",
       " ',',\n",
       " 'sur',\n",
       " 'sa',\n",
       " 'demande',\n",
       " ',',\n",
       " 'a',\n",
       " 'faire_valoir',\n",
       " 'ses_droits',\n",
       " 'a',\n",
       " 'la',\n",
       " 'pension',\n",
       " 'de',\n",
       " 'retraite',\n",
       " '.']"
      ]
     },
     "execution_count": 38,
     "metadata": {},
     "output_type": "execute_result"
    }
   ],
   "source": [
    "#Lorsque l'instance de `Phrases` a été entraînée, elle peut concaténer les bigrams dans les phrases lorsque c'est pertinent.\n",
    "%time bigram_phrases[sentences[78]]"
   ]
  },
  {
   "cell_type": "markdown",
   "id": "c057a938-bd7e-435d-8681-bffdaaa18e79",
   "metadata": {},
   "source": [
    "### Conversion des `Phrases` en objet `Phraser`"
   ]
  },
  {
   "cell_type": "code",
   "execution_count": 39,
   "id": "e2fa2950-48ea-424c-bb85-dc07d2e0e0b8",
   "metadata": {},
   "outputs": [],
   "source": [
    "bigram_phraser = Phraser(phrases_model=bigram_phrases)"
   ]
  },
  {
   "cell_type": "markdown",
   "id": "0172929e",
   "metadata": {},
   "source": [
    "Le `Phraser` est un objet qui convertit certains unigrams d'une liste en bigrams lorsqu'ils ont été identifiés comme pertinents."
   ]
  },
  {
   "cell_type": "code",
   "execution_count": 40,
   "id": "96941412",
   "metadata": {},
   "outputs": [
    {
     "name": "stdout",
     "output_type": "stream",
     "text": [
      "CPU times: total: 0 ns\n",
      "Wall time: 0 ns\n"
     ]
    },
    {
     "data": {
      "text/plain": [
       "['du',\n",
       " '-',\n",
       " '#',\n",
       " 'val',\n",
       " ',',\n",
       " 'receveur',\n",
       " 'des',\n",
       " 'contributions_directes',\n",
       " 'et',\n",
       " 'des',\n",
       " 'accises',\n",
       " 'a',\n",
       " 'deynze',\n",
       " '.',\n",
       " 'est',\n",
       " 'admis',\n",
       " ',',\n",
       " 'sur',\n",
       " 'sa',\n",
       " 'demande',\n",
       " ',',\n",
       " 'a',\n",
       " 'faire_valoir',\n",
       " 'ses_droits',\n",
       " 'a',\n",
       " 'la',\n",
       " 'pension',\n",
       " 'de',\n",
       " 'retraite',\n",
       " '.']"
      ]
     },
     "execution_count": 40,
     "metadata": {},
     "output_type": "execute_result"
    }
   ],
   "source": [
    "%time bigram_phraser[sentences[78]]"
   ]
  },
  {
   "cell_type": "markdown",
   "id": "605d6d5e-0aca-4e8e-830e-4f5c7bbcca22",
   "metadata": {},
   "source": [
    "### Extraction des trigrams"
   ]
  },
  {
   "cell_type": "markdown",
   "id": "5fa1cac4",
   "metadata": {},
   "source": [
    "Nous répétons l'opération en envoyant cette fois la liste de bigrams afin d'extraire les trigrams."
   ]
  },
  {
   "cell_type": "code",
   "execution_count": 41,
   "id": "040fd4fa-e728-486c-b319-95339432bc91",
   "metadata": {},
   "outputs": [],
   "source": [
    "trigram_phrases = Phrases(bigram_phraser[sentences])"
   ]
  },
  {
   "cell_type": "code",
   "execution_count": 42,
   "id": "638edf0c-1928-41b4-914f-88b6562d62cc",
   "metadata": {},
   "outputs": [],
   "source": [
    "trigram_phraser = Phraser(phrases_model=trigram_phrases)"
   ]
  },
  {
   "cell_type": "markdown",
   "id": "8d5b9ca7-fc42-4307-a116-38029f1d2dab",
   "metadata": {},
   "source": [
    "### Création d'un corpus d'unigrams, bigrams, trigram"
   ]
  },
  {
   "cell_type": "code",
   "execution_count": 43,
   "id": "0d7daa08-f8f4-4cbc-8d24-b02a39f9a0c0",
   "metadata": {},
   "outputs": [],
   "source": [
    "corpus = list(trigram_phraser[bigram_phraser[sentences]])"
   ]
  },
  {
   "cell_type": "code",
   "execution_count": 44,
   "id": "5dff064e-f1f5-4d47-9a20-7057f69e2a30",
   "metadata": {},
   "outputs": [
    {
     "name": "stdout",
     "output_type": "stream",
     "text": [
      "[['mi', 'imnri', 'r', 'i', '<<', 'i', 'i', 'hmu', \"'\", 'i', '/', 'tx', \"-'\", 'l', ':', 'marche', 'tenu', 'hors', 'villa', ',', 'la', '9', '.'], ['--', 'u', 'a', 'ete', 'vaain', 'si', 'teicj', '>>', 'm', 'races_indigenes', 'de', 'fr', '.'], ['31', '<)', 'a', '5s', \"'\", 'k', '131', 'de', '.'], ['rasa', 'iichakdui', \"'\", 'te', ',', 'do', '(', 'r', '.', '3s0', 'h', '710', '.', 'taureaux', 'iallsenas', ',>', 'ia', 'u', '\\\\', '--', 'a', '--', ';', '0ii', '.'], ['hollandais', ',', 'dufr', '.'], ['0', '.'], ['--', 'a', '9', '.--', 'la', 'idto', '-', 'vachei', 'laitieres', ':', 'bn', 'vante', '1q', '.'], ['vendues', '3', '\\\\', 'au', 'prix', 'la', '410', 'a', '*', '<<', 'i', 'h', '\\\\;', 'genisses', ',', 'kl', '.'], [\"'.\", '9', '.'], ['i', 'l', '.', '2', 'i', '.', 'id', '.'], ['da', '370', 'i', '6lutr', '.'], ['marche', 'a', '<', 'u', 'porcs', '.'], ['--', 'categorie', 'de', 'lt', 'ilashtya', ':', \"'\", '237', 'on', 'vente', ';', 'vendus', '1', 'm', '.', 'do', \"'\", '2', 'i', '.--', 'a', ';:,', 'l', '--;', 'i', '.', 'l', '.'], ['des', 't', \"'\", 'innlrov', '-', 'i3ie', ';>>', 'vente', ',', 'vendus', '93', '.', 'de', '32', '.--', 'a', '52', '.--.'], ['xumiir', '.'], ['10', 'a', '*', 'v', '.--_froment', '>>', 'las', '190', 'kit', '..', 'fr', '.'], ['15', '.', '23', ';', 'mi', \"'\", 'te', '>>,', '--;', 'epautre', '.', 'l3', '.--', ';', 'seigle', '.'], ['14', '.', '5', '>;', 'avoine', '.'], ['10', '.', '30', ';', 'orge', '.'], ['--;_feveroles', ',', '22', '.--;_pommes', 'do', 'terre', '.'], ['g', '.--;_paille', ',', 'v', '.', '--;', 'fcin', '.', '6', '.', '50', ':', 'lioumon', ',', '--.'], ['2', \"%'\", 'ivellom', '.'], ['10', 'mv', '.'], ['--', 'froment', ',', 'las', '109_kll', '.,', '(', 'r', '.', '13', '.'], ['--', '\\\\', '--;_selgle', '.', 'ii', '.-;\\\\', '--;_avoine', ',', '16', '.', '509', '-;', 'orge', ',', '17', '30', 'j', '--,--;_escourgeon', '.'], ['#', 'inint', '-', 't', '>>*', 'o', '<<', 'd', ',', '10', 'nov', '.', '--', 'froment', 'je', 'culture', ',', 'par', '400kil', '.,', 'fr', '.'], ['10', '.--', '1', '--.--;', 'm', '.', 'commercial', ',', '16', '.'], ['--', 'a', '--.--,_seigle', '.'], ['13', '.', '50', 'a', '--;_avoine', '.'], ['10', '.', '50', 'a', '--.--;_orge', '.'], ['17', '.--', 'a', '--;_farine', 'ira', 'de', 'froment', ',', '0', '.--', 'a', '0', '.'], ['--;', 'son', 'gros', 'de', 'tco', '*', 'ment', ',', '15', '.--', 'a', '--.--.'], ['huiie', 'de', 'colza', ',', 'par', 'hcctoi', '.,', '--', 'a', '--;', 'u', '.', 'epures', ',', '--~', 'a', ';', 'huile', 'de', 'lin', '.'], ['--,--', 'a', '--;_tourteaux', 'de', 'colza', 'par', '100_kll', '.,', '--', 'a', '--;_id', '.'], ['de', 'lin', ',', '--', 'a', 'i', 'pommes', 'de', 'terre_blanches', ',', '6', '.', '3', '>>', 'a', '0', '.--.'], ['...', ',,', ',,,,', 'paille', ',', 'fi', '.', '50', 'a', '0', '.--;', 'loln', \",'\", '5', '.', '5i', ')', 'a', '0', '.--;_beurre', ',', 'le', 'kilo', '.'], ['2', '.', 'o', 'a', '0', '.--;_oeufs', ',', 'les', '26', ',', '3', '.', '30', 'a', '0', '.--;_genievre', ',', 'l', \"'\", 'uect', '.,', '--', 'a', 'esprit', ',', '0', '.--', 'a', '0', '.--.'], ['tournai', ',', '10', 'nov', '.', '--', 'froment_blaze', ',', 'l', \"'\", 'iiaetoluri', ',', 'fr', '.'], ['--.--', 'a', '--;_froment', ',--', 'u', '--;_metell', ',', '--', 'a', '--;_seigle', ',--.--', 'a', '--;_avoine', ',', '--', 'a', '--;', 'feve', '-', 'roles', ',', '--.--', 'a', '--;_beurre', ',', 'le', 'kilo', ',', '2', '.', '00', 'a', '3', ',', '10', ';', 'oeufs', ',', 'les', '26', ',', '3', '.', '70', 'u3', '.', 'c0', '.'], ['wacrofiliom', ',', '10', 'nov', '.--', 'beurre', '.', 'le', '1', '/', '3', 'il', '-,', '1', '.', '5qa', '1', '.', '60', ',', 'oeufs', ',', 'les', '26', ',', '3', '.', '99', 'a', '1', '.', '16', ';', 'lin', ',', 'les', '100_kilos', ',', '93', '.--', 'a', '145', '.--;_etoupes', ',', 'lee', '1u0', 'kii', '.,', '30', '.--', 'a', '35', '.--;_pommes', 'de', 'terre', ',', 'les', '100', '>', 'il', '.,', '3', '.--', 'a', '3', '.', '50', ';', 'jeune', 'porc', ',', 'la', 'piece', ',', '33', '.--', 'a', '50', '.--;_lapin', '.'], ['2', '.--', 'a', '3', '.', '95', ';', 'poulet', ',', '2', '.', '25', 'a', '3', '.'], ['--.'], ['vin', '-', 'e', '<<,', '10', 'nov', '.', '--', 'froment', ',', 'les', '10j', 'kll', '.,', 'fr', '.'], ['18', '.--', 'a', '19', '.', '59', ';', 'seigle', ',', '16', '.-', 'a', '16', '.', '75', ';', 'avoine', ',', '16', '.--', 'a', '16', '.', '75', ':', 'pois', '--', 'a', '--;_feveroles', ',', '--.--', 'a', '--.--;_pommes', 'de', 'terre', ',', '8', '80', 'a', 'g', '.--*,', 'beurre', ',', 'le', 'kilo', ',', '2', '.', '90', 'a', '3', '.', '20', ';', 'oeufs', ',', 'le', '(', 'iuart3', '-', 'ron', '.'], ['i', '.', '16', 'a', '4', '.', '63', '.'], ['charmanne', '.'], ['consul_general', 'de', 'belgique', 'a', 'ottawa', '(', 'canada', ').', 'a', 'ele', 'nomme_consul', 'general', 'a', 'bang_kok', '(', 'siam', '),', 'avec', 'juridiction', 'sur', 'le', 'siam', 'et', 'les', 'slrails', 'seluements', '.'], ['--', 'm', '.', 'kelels', ',', 'consul', 'de', 'belgique', 'a', 'tien', '-', 'tsin', '(', 'chine', '),', 'a', 'ele', 'nomme_consul', 'a', 'ottawa', '(', 'canada', '),', 'avec', 'juridiction', 'sur', 'la', 'federation', 'canadienne', 'et', 'ja', 'colonie', 'de', 'terre', '-', 'neuve', '.'], ['decoration', 'c', \".'\", 'v', \"'\", 'gae', '.'], ['--', 'la', '.', 'decoration_civique', 'a', 'ele', 'decernee', 'aux', 'agents', 'de', 'l', \"'\", 'administration', 'des', 'postes', ';', 'designes_ci', '-', 'apres', ',', 'savoir', ':', 'la', 'medaille', 'de', 'ire_classe', ':', 'a', 'm', '.', 'billy', '.'], ['facteur_rural', '.'], ['la', 'medaille', 'de', '2e_classe', ':', 'a', 'm', '.', 'goringy', 'facteur', 'local', '.', '.', 'armee', '.'], ['--', 'le', 'sergent', ',', 'en', 'conge_illimite', ',', 'baudouin', '\"', 'est', 'nomme', 'sous', '-', 'lieutenanl', 'payeur', 'de', 'reserve', '.'], ['notariat', '.'], ['--', 'sont_acceptees', 'les', 'demissions', 'de', 'm', '.', 'myin', '.'], ['de', 'ses_fonctions', 'de', 'notaire', 'a', 'la', 'residence', 'd', \"'\", 'anvers', ';', 'do', 'm', '.', 'jadol', ',', 'id', '.'], ['de', 'marche', '.'], ['ecole_militaire', '.'], ['--', 'sont', 'admis', 'a', 'l', \"'\", 'ecole_militaire', ',', 'en', 'qualite', 'd', \"'\", 'eleves', 'de', 'la', '57e', 'promotion', 'de', 'l', \"'\", 'infanterie', 'et', 'ao', 'la', '<', \"'\", '*', \"'\", '*', '-', '\"', 'i', 'cavalerie', ',', 'les', 'jeunes_gens', 'dont', 'les', 'noms_suivent', ':', 'hanon', 'de', 'louvet', ',', 'van_sprang', ',', 'deyloo', ',', 'petit', ',', 'champagne', '.'], ['masui', ',', 'gerard', ',', 'vanneste', ',', 'lallemand', ',', 'van', 'iioeeke', \".'\", 'rigano', '.'], ['ilendrickx', ',', 'von', 'glaboke', ',', 'sou', '-', \"'\", 'moy', '.', 'couturieaux', ',', 'lucion', ',', 'mersch', ',', 'iledo', ',', 'iloudmont', ',', 'de', 'heusch', '.'], ['terfve', '.'], ['labio', ',', 'brabant', ',', 'franckx', ',', 'foulon', ',', 'fiahiiifirh', '.'], ['simmi', '\"', 'tfannatvnin', 'fivnv', '^', 'f', 'h', '-.', 'ilu', '/', 'phnin', '.'], ['u', 'gernaert', ',', 'simon', \",'\", 'henncquin', ',', 'fcro', \"'\", 't', ',', 'g', '->', 'ile', ',', 'i', \"'\", 'orjo', 'e', \"'\", 'y', 'hannus', '.', 'noel', ',', 'flanieng', ',', 'bri', '-', 'matchovelette', ',', 'gondry', ',', 'doux', ',', 'vermeuleu', ',', 'giilo', 'gillot', ',', 'boufvin', '.'], ['borremans', '.'], ['academie_royale_flamande', 'de', 'langue', 'et', 'de', 'litterature', '.'], ['--', 'l', \"'\", 'election', 'faite', 'par', 'l', \"'\", 'academie_flamande', ',', 'dans', 'sa', 'seance', 'du', '17', 'octobre_1906', ',', 'de', 'm', '.', 'le', 'docteur', 'hugo_verriest', ',', 'a', 'ingoyghem', ',', 'en', 'qualite', 'de', 'membre_effectif', ',', 'en', '-', 'remplacement', 'de', 'feu', 'm', '.', 'janssens', ',', 'est_approuvee', '.'], ['sapeurs', '-', 'pompiers_communaux', 'armes', '.'], ['--', 'm', '.', 'pa', '*', 'njels', ',', 'sous', '-', 'fieu', 'tenant', 'au', 'corps', 'arme', 'de', 'sapeurs', '-', 'pom', '-', 'iers', 'communaux', 'de', 'schaerheek', ',', 'est', 'nomme', 'lieule', '-', 'p', 'u', 'teuant', ',-', 'en_remplacement', 'de', 'm', '.', 'verteneuil', ',', 'decede', '.'], ['enseignement_moyen', '.'], ['--', 'mme', 'schaefer', '-', 'misonne', ',.'], ['.', 'directrice', 'a', 'titre_provisoire', 'de', 'l', \"'\", 'ecole_moyenne', 'de', 'l', \"'\", 'elat', 'pour', 'alles', ',', 'a', 'jumet', ',', 'est', 'dechargee', 'des', 'fonciions', 'de', 'regente', 'd', \"'\", 'economie', 'domes', '!'], ['ique', 'a', 'l', \"'\", 'ecole', '\"', 'moyen', 'ne', 'del', \"'\", 'ktai', 'pour', 'ailes', ',', 'a', 'la', 'louviere', '.'], ['--', 'm', '.', 'barzin', 'est', 'decharge', ',', 'sur', 'sa', 'demande', ',', 'des', 'fonctions', 'de', 'regent', 'a', 'l', \"'\", 'ecole_moyenne', 'de', 'l', \"'\", 'etal', 'pour', \"'\", 'garcons', ',', 'a', 'spa', ',', 'avec', 'autorisation', 'd', \"'\", 'en', 'conserver', 'le', 'r', 'titre_honorifique', ':', 'il', 'est', 'admis', 'a', 'faire_valoir', 'ses_droits', ';', 'a', 'ja', 'pension', '.'], [';', \"'\", '-', 'r', '-', 'm', '.', 'drainer', ',', 'directeur', 'a', 'titre_provisoire', 'de', 'l', \"'\", 'ecole', 'moyenue', 'de', 'l', \"'\", 'etat', 'pour', '.', 'garcons', '^', 'a', 'wavre', ',', 'est', 'decharge', ',', 'sur', 'sa', 'demande', ',', 'des', 'fonctions', 'de', 'professeur', 'de', 'gymnastique', ',', 'en', ',', 'partage', ',', 'a', 'l', \"'\", 'ecole_moyenne', 'do', 'l', \"'\", 'etat', 'pour', 'garcons', ',', 'a', 'roeulx', '.'], ['*', 'contributions_directes', ',', 'douanes', 'et', 'accises', '.'], ['--', 'm', '.'], ['du', '-', '#', 'val', ',', 'receveur', 'des', 'contributions_directes', 'et', 'des', 'accises', 'a', 'deynze', '.', 'est', 'admis', ',', 'sur', 'sa', 'demande', ',', 'a', 'faire_valoir', 'ses_droits', 'a', 'la', 'pension', 'de', 'retraite', '.'], ['coinmission', 'tnedicale', 'provinciale', '.'], ['--', 'sont_nommes', 'membres_correspondants', 'de', 'la', 'commission_medicale', 'piminciale', 'de', 'namur', ';', 'mm', '.'], ['les', 'doctonrs', 'rolin', ',', 'u', \"'\", 'e', 'fosses', ';', 'lebrun', ',', 'de', 'ligny', ';', 'giliard', ',', 'do', 'ctiampion', ',', 'et', '.'], ['defasse', ',', 'de', 'spj', '\\\\', 'en_remplacement', 'de', 'mm', ',', 'les', 'docteurs', '.'], ['wery', ',', 'de', 'fosses', ',', 'et', 'fermine', ',', 'do', 'lignv', ',', 'demis', '-', ';', 'sionnairos', ',', 'et', 'de', 'mm', '.'], ['jes', 'docteurs', 'renard', ',', \"'\", 'de', 'champion', 'et', 'dehaybe', ',', 'de', 'spy', ',', 'decedes', '.'], ['arts', ',', 'sciences', 'et', 'lettres', 'declamation', '.', 'et', 'diction', '.'], ['*', '--', 'on', 'nous', 'demande', 'de', 'divers_cotes', 'des', 'renseignements', 'sur', 'le', 'cours', 'que', 'va', 'donner', 'm', '.', 'hittemans', '.'], ['nous', 'no', 'croyons_pouvoir', 'mieux', 'faire', 'que', 'd', \"'\", 'engager', 'les', 'interesses', 'a', 's', \"'\", 'adresser', 'a', 'l', \"'\", 'artiste', ',', 'rue', 'verhulst', ',', '6', ',', 'a', 'uccle', '.'], ['universite_libre', ',', 'rue', 'des', 'sols', '.'], ['--', 'demain_lundi', ',', 'a', 'r', 'meures', 'du', 'soir', ',', 'conference', 'par', 'm', '.', 'lameere', ':', '<<', 'la', 'fondation', '>>.'], ['universite_populaire', 'd', \"'\", 'euerbeek', '.'], ['--', 'lundi', '12', ',', 'a', '3', 'h', '.', '1', '/', '2', ',', 'au', 'local', ',', '4', ',', 'rue', 'do', 'l', \"'\", 'etang', ',', 'inauguration_solennelle', '.'], ['discours', 'de', 'm', '.', 'e', '.', 'richard', '.'], ['conference', 'de', 'xi', '.', 'ch', '.', 'buls', '.', 'sujet', ':', '<<-', 'la', 'corse', '>>.'], ['projections_lumineuses', '*', 'universite_populaire', 'de', 'saint', '-', 'josse', ',', '67', ',', 'rue', 'de', 'la', 'limite', '.'], ['demain_lundi', ',', 'a', '8', 'h', '.', '1', '/', '4', ',', 'eauserio', 'litteraire', ':', '<<', 'maxim', 'gorki', '<<.', 'lectures', '.'], ['vamicale', 'de', 'vecole', 'n_deg', '7', '.'], ['--', 'demain_lundi', ',', 'a', '8', 'h', '.', 'du', 'soir', ',', 'dans', 'le', 'preau', 'de', 'l', \"'\", 'ecole', 'n_deg', '7', ',', 'rue_haute', '225', \"'\", 'conference', 'par', 'madame', 'journaux', ':', '<<', 'de', 'la', 'grande', '-', 'chartreuse', 'a', 'ja', 'cote', 'd', \"'\", 'azur', '>>.', 'projections_lumineuses', '.'], ['foyer_intellectuel', ',', 's0', ',', 'rue', 'du', 'fort', '.'], ['--', 'demain_lundi', ',', 'a', '8b', ',,', 'm', '.', 'j', '.', 'vincent', ':', '<<', 'la', 'meteorologie', ':', 'le', 'barometre', '>>.']]\n"
     ]
    }
   ],
   "source": [
    "print(corpus[:100])"
   ]
  },
  {
   "cell_type": "markdown",
   "id": "42f9b984-d54a-4048-87c2-767e325e0c36",
   "metadata": {},
   "source": [
    "## Entrainement d'un modèle Word2Vec sur ce corpus"
   ]
  },
  {
   "cell_type": "code",
   "execution_count": 45,
   "id": "99eddd76-400d-438d-8651-e6ba39a8afad",
   "metadata": {},
   "outputs": [
    {
     "name": "stdout",
     "output_type": "stream",
     "text": [
      "CPU times: total: 30min 56s\n",
      "Wall time: 9min 36s\n"
     ]
    }
   ],
   "source": [
    "%%time\n",
    "model = Word2Vec(\n",
    "    corpus, # On passe le corpus de ngrams que nous venons de créer\n",
    "    vector_size=32, # Le nombre de dimensions dans lesquelles le contexte des mots devra être réduit, aka. vector_size\n",
    "    window=5, # La taille du \"contexte\", ici 5 mots avant et après le mot observé\n",
    "    min_count=5, # On ignore les mots qui n'apparaissent pas au moins 5 fois dans le corpus\n",
    "    workers=4, # Permet de paralléliser l'entraînement du modèle en 4 threads\n",
    "    epochs=5 # Nombre d'itérations du réseau de neurones sur le jeu de données pour ajuster les paramètres avec la descende de gradient, aka. epochs.\n",
    ")"
   ]
  },
  {
   "cell_type": "markdown",
   "id": "39b6514f",
   "metadata": {},
   "source": [
    "#### Remarque\n",
    "\n",
    "Vous voyez ici que l'entrainement du modèle est parallélisé (sur 4 workers).\n",
    "\n",
    "Lors qu'on parallélise l'entrainement du modèle, 4 modèles \"séparés\" sont entrainés sur environ un quart des phrases.\n",
    "\n",
    "Ensuite, les résultats sont agrégés pour ne plus faire qu'un seul modèle.\n",
    "\n",
    "On ne peut prédire quel worker aura quelle phrase, car il y a des aléas lors de la parallélisation (p. ex. un worker qui serait plus lent, etc.).\n",
    "\n",
    "Sur ce, les valeurs peuvent varier légèrement d'un entrainement à l'autre.\n",
    "\n",
    "Mais, globalement, les résultats restent cohérents."
   ]
  },
  {
   "cell_type": "markdown",
   "id": "ea798e16-e60c-4866-bdf4-069b8ef38125",
   "metadata": {},
   "source": [
    "### Sauver le modèle dans un fichier"
   ]
  },
  {
   "cell_type": "code",
   "execution_count": 46,
   "id": "71c4ff77-b798-43ed-b46a-fa16b1cc0a7a",
   "metadata": {},
   "outputs": [],
   "source": [
    "outfile = f\"../data/bulletins.model\"\n",
    "model.save(outfile)"
   ]
  },
  {
   "cell_type": "markdown",
   "id": "3bfb51fe-0e31-464b-ada7-61c8866c8a88",
   "metadata": {},
   "source": [
    "## Exploration du modèle en utilisant les deux fonctions `similarity` et `most_similar`"
   ]
  },
  {
   "cell_type": "markdown",
   "id": "d5ce56ca-5e8a-46a1-b997-5d10ed756bc3",
   "metadata": {},
   "source": [
    "### Charger le modèle en mémoire"
   ]
  },
  {
   "cell_type": "code",
   "execution_count": 47,
   "id": "6b0d3caa-f11f-4f40-ba00-393d96d86c63",
   "metadata": {},
   "outputs": [],
   "source": [
    "model = Word2Vec.load(\"../data/bulletins.model\")"
   ]
  },
  {
   "cell_type": "markdown",
   "id": "472cfca8-3d45-48b0-ac4a-502ee199744f",
   "metadata": {},
   "source": [
    "### Imprimer le vecteur d'un terme"
   ]
  },
  {
   "cell_type": "code",
   "execution_count": 48,
   "id": "98e5de40-b3bb-4e60-ae6d-cf0ef8e453d1",
   "metadata": {},
   "outputs": [
    {
     "data": {
      "text/plain": [
       "array([-5.8715229e+00, -2.9808903e+00, -6.1699214e+00,  4.5281591e+00,\n",
       "        1.5345638e+00, -3.1242764e+00, -4.2863688e+00, -8.7926960e-01,\n",
       "       -1.1167887e+00,  5.3856091e+00, -3.1921077e+00,  3.7677820e+00,\n",
       "        2.0432642e+00,  3.9716578e+00, -2.9374189e+00, -8.9151889e-01,\n",
       "       -3.5006463e-04, -1.9817017e+00, -2.8487530e+00, -2.6870008e+00,\n",
       "        3.9478797e-01, -1.8944421e+00, -1.2166504e+00, -1.8101209e+00,\n",
       "       -1.5955392e-01, -2.9020500e+00, -3.5479770e+00,  5.1357388e+00,\n",
       "        3.8240702e+00, -1.2874062e+00, -2.9533297e-01, -1.6015701e+00],\n",
       "      dtype=float32)"
      ]
     },
     "execution_count": 48,
     "metadata": {},
     "output_type": "execute_result"
    }
   ],
   "source": [
    "model.wv[\"bruxelles\"]"
   ]
  },
  {
   "cell_type": "markdown",
   "id": "7d724987-58e3-4c81-93c7-66f43846dad4",
   "metadata": {},
   "source": [
    "### Calculer la similarité entre deux termes avec `similarity`"
   ]
  },
  {
   "cell_type": "code",
   "execution_count": 49,
   "id": "940ded31-bb66-40ee-84ab-1814fffcc177",
   "metadata": {},
   "outputs": [
    {
     "data": {
      "text/plain": [
       "0.7545998"
      ]
     },
     "execution_count": 49,
     "metadata": {},
     "output_type": "execute_result"
    }
   ],
   "source": [
    "model.wv.similarity(\"hospice\", \"hopital\")"
   ]
  },
  {
   "cell_type": "code",
   "execution_count": 50,
   "metadata": {},
   "outputs": [
    {
     "data": {
      "text/plain": [
       "0.70756555"
      ]
     },
     "execution_count": 50,
     "metadata": {},
     "output_type": "execute_result"
    }
   ],
   "source": [
    "model.wv.similarity(\"etablissement\", \"retablissement\")"
   ]
  },
  {
   "cell_type": "code",
   "execution_count": 51,
   "metadata": {},
   "outputs": [
    {
     "data": {
      "text/plain": [
       "0.085744776"
      ]
     },
     "execution_count": 51,
     "metadata": {},
     "output_type": "execute_result"
    }
   ],
   "source": [
    "model.wv.similarity(\"metres\", \"mettre\")"
   ]
  },
  {
   "cell_type": "code",
   "execution_count": 52,
   "metadata": {},
   "outputs": [
    {
     "data": {
      "text/plain": [
       "0.7811823"
      ]
     },
     "execution_count": 52,
     "metadata": {},
     "output_type": "execute_result"
    }
   ],
   "source": [
    "model.wv.similarity(\"suffire\", \"souffrir\")"
   ]
  },
  {
   "cell_type": "code",
   "execution_count": 53,
   "metadata": {},
   "outputs": [
    {
     "data": {
      "text/plain": [
       "0.3750158"
      ]
     },
     "execution_count": 53,
     "metadata": {},
     "output_type": "execute_result"
    }
   ],
   "source": [
    "model.wv.similarity(\"valoir\", \"falloir\")"
   ]
  },
  {
   "cell_type": "code",
   "execution_count": 54,
   "metadata": {},
   "outputs": [
    {
     "data": {
      "text/plain": [
       "0.619509"
      ]
     },
     "execution_count": 54,
     "metadata": {},
     "output_type": "execute_result"
    }
   ],
   "source": [
    "model.wv.similarity(\"entreprendre\", \"entreprise\")"
   ]
  },
  {
   "cell_type": "markdown",
   "id": "1cee1bbf-04ca-434d-b65e-fc9f645d6131",
   "metadata": {},
   "source": [
    "### Chercher les mots les plus proches d'un terme donné avec `most-similar`"
   ]
  },
  {
   "cell_type": "code",
   "execution_count": 55,
   "id": "cb75c6dc-d837-40e7-a6b5-0963dc24985b",
   "metadata": {},
   "outputs": [
    {
     "data": {
      "text/plain": [
       "[('bru_xelles', 0.869769275188446),\n",
       " ('bruxolles', 0.8635097742080688),\n",
       " ('bruxeues', 0.8461683988571167),\n",
       " ('bruxellee', 0.7945007085800171),\n",
       " ('brnxelles', 0.787849485874176),\n",
       " ('bruxellos', 0.7805812954902649),\n",
       " ('bruxeiles', 0.7644994854927063),\n",
       " ('bruxelle', 0.756931722164154),\n",
       " ('bruxellea', 0.7543774247169495),\n",
       " ('louvain', 0.7410650849342346)]"
      ]
     },
     "execution_count": 55,
     "metadata": {},
     "output_type": "execute_result"
    }
   ],
   "source": [
    "model.wv.most_similar(\"bruxelles\", topn=10)"
   ]
  },
  {
   "cell_type": "code",
   "execution_count": 56,
   "metadata": {},
   "outputs": [
    {
     "data": {
      "text/plain": [
       "[('public_bruxellois', 0.850452721118927),\n",
       " ('peuple_allemand', 0.8254539966583252),\n",
       " ('peuple_belge', 0.8222545981407166),\n",
       " ('pretexte', 0.8215112090110779),\n",
       " ('legislateur', 0.8200145959854126),\n",
       " ('monde_entier', 0.8144017457962036),\n",
       " ('kremlin', 0.8140304088592529),\n",
       " ('ceremonial', 0.8102176189422607),\n",
       " ('premier_plan', 0.8076150417327881),\n",
       " ('peuple_americain', 0.8008378148078918)]"
      ]
     },
     "execution_count": 56,
     "metadata": {},
     "output_type": "execute_result"
    }
   ],
   "source": [
    "model.wv.most_similar(\"public\", topn=10)"
   ]
  },
  {
   "cell_type": "code",
   "execution_count": 57,
   "metadata": {},
   "outputs": [
    {
     "data": {
      "text/plain": [
       "[('maison_communale', 0.7892730832099915),\n",
       " ('propriete_industrielle', 0.7268527746200562),\n",
       " ('rixe', 0.7228336334228516),\n",
       " ('propriete', 0.7196053862571716),\n",
       " ('belle_propriete', 0.7146837115287781),\n",
       " ('location_publique', 0.713904619216919),\n",
       " ('vaste_propriete', 0.7107706069946289),\n",
       " ('place_communale', 0.7054402828216553),\n",
       " ('curieuse_lettre', 0.6992093920707703),\n",
       " ('crypte', 0.6899868845939636)]"
      ]
     },
     "execution_count": 57,
     "metadata": {},
     "output_type": "execute_result"
    }
   ],
   "source": [
    "model.wv.most_similar(\"commune\", topn=10)"
   ]
  },
  {
   "cell_type": "code",
   "execution_count": 58,
   "metadata": {},
   "outputs": [
    {
     "data": {
      "text/plain": [
       "[('hopital_civil', 0.9137763381004333),\n",
       " ('infirmerie', 0.9116771817207336),\n",
       " ('hopital_militaire', 0.8838120698928833),\n",
       " ('ho_pital', 0.8507239818572998),\n",
       " ('hopital_brugmann', 0.821505606174469),\n",
       " ('amigo', 0.8164184093475342),\n",
       " ('ambulance', 0.8005029559135437),\n",
       " ('hopital_communal', 0.7954905033111572),\n",
       " ('institut_medico', 0.7908585071563721),\n",
       " ('aerodrome', 0.7788134217262268)]"
      ]
     },
     "execution_count": 58,
     "metadata": {},
     "output_type": "execute_result"
    }
   ],
   "source": [
    "model.wv.most_similar(\"hopital\", topn=10)"
   ]
  },
  {
   "cell_type": "markdown",
   "id": "38000f9f-61da-47fe-8a67-cb604b51a332",
   "metadata": {},
   "source": [
    "### Faire des recherches complexes à travers l'espace vectoriel"
   ]
  },
  {
   "cell_type": "code",
   "execution_count": 59,
   "id": "7ffb1a77-d6b7-4a0a-b004-e116b403468d",
   "metadata": {},
   "outputs": [
    {
     "name": "stdout",
     "output_type": "stream",
     "text": [
      "[('bruxolles', 0.832273006439209), ('bru_xelles', 0.8270699381828308), ('jerusalem', 0.793605387210846), ('bruxeues', 0.7884555459022522), ('bruxellee', 0.7728294134140015), ('anciennement', 0.7582023739814758), ('louvain', 0.7499675750732422), ('laeken', 0.7460979223251343), ('robert_finck', 0.7370668053627014), ('cureghem', 0.7314031720161438)]\n"
     ]
    }
   ],
   "source": [
    "print(model.wv.most_similar(positive=['bruxelles', 'france'], negative=['belgique']))"
   ]
  }
 ],
 "metadata": {
  "kernelspec": {
   "display_name": "Python 3 (ipykernel)",
   "language": "python",
   "name": "python3"
  },
  "language_info": {
   "codemirror_mode": {
    "name": "ipython",
    "version": 3
   },
   "file_extension": ".py",
   "mimetype": "text/x-python",
   "name": "python",
   "nbconvert_exporter": "python",
   "pygments_lexer": "ipython3",
   "version": "3.11.6"
  }
 },
 "nbformat": 4,
 "nbformat_minor": 5
}
